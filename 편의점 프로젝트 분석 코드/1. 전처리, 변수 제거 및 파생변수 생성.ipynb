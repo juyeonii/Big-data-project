{
 "cells": [
  {
   "cell_type": "code",
   "execution_count": 1,
   "id": "635ff073",
   "metadata": {},
   "outputs": [],
   "source": [
    "#데이터 구성\n",
    "import pandas as pd\n",
    "\n",
    "#행렬 연산\n",
    "import numpy as np\n",
    "\n",
    "#데이터 시각화\n",
    "import matplotlib; import matplotlib.pyplot as plt\n",
    "\n",
    "#데이터 시각화 산점도 행렬, 추세\n",
    "import seaborn as sns\n",
    "\n",
    "#scale 변환 평균 표준편차 기준\n",
    "from sklearn.preprocessing import StandardScaler\n",
    "\n",
    "\n",
    "#주성분 분석\n",
    "from sklearn.decomposition import PCA\n",
    "\n",
    "#회귀 분석\n",
    "import statsmodels.api as sm\n",
    "\n",
    "#폰트적용\n",
    "matplotlib.rc('font', family=\"NanumBarunGothic\")"
   ]
  },
  {
   "cell_type": "markdown",
   "id": "689a129a",
   "metadata": {},
   "source": [
    "# 1. 데이터 구성하기"
   ]
  },
  {
   "cell_type": "markdown",
   "id": "7f3538d0",
   "metadata": {},
   "source": [
    "## 데이터 불러오기"
   ]
  },
  {
   "cell_type": "code",
   "execution_count": 2,
   "id": "97ebf0ed",
   "metadata": {},
   "outputs": [],
   "source": [
    "#파일 불러오기\n",
    "users=pd.read_csv('//home/piai/바탕화면/cvs_users.csv',encoding='cp949')\n",
    "weather=pd.read_csv('//home/piai/바탕화면/cvs_weather.csv',encoding='cp949')\n",
    "sales=pd.read_csv('//home/piai/바탕화면/cvs_sales.csv',encoding='cp949')\n",
    "items=pd.read_csv('//home/piai/바탕화면/cvs_items.csv',encoding='cp949')"
   ]
  },
  {
   "cell_type": "markdown",
   "id": "0c638564",
   "metadata": {},
   "source": [
    "## 데이터 전처리"
   ]
  },
  {
   "cell_type": "markdown",
   "id": "b1e125af",
   "metadata": {},
   "source": [
    "### user "
   ]
  },
  {
   "cell_type": "code",
   "execution_count": 3,
   "id": "07a96a0d",
   "metadata": {},
   "outputs": [
    {
     "data": {
      "text/html": [
       "<div>\n",
       "<style scoped>\n",
       "    .dataframe tbody tr th:only-of-type {\n",
       "        vertical-align: middle;\n",
       "    }\n",
       "\n",
       "    .dataframe tbody tr th {\n",
       "        vertical-align: top;\n",
       "    }\n",
       "\n",
       "    .dataframe thead th {\n",
       "        text-align: right;\n",
       "    }\n",
       "</style>\n",
       "<table border=\"1\" class=\"dataframe\">\n",
       "  <thead>\n",
       "    <tr style=\"text-align: right;\">\n",
       "      <th></th>\n",
       "      <th>idUser</th>\n",
       "      <th>Gender</th>\n",
       "      <th>AgeGroup</th>\n",
       "      <th>UserYear</th>\n",
       "    </tr>\n",
       "  </thead>\n",
       "  <tbody>\n",
       "    <tr>\n",
       "      <th>0</th>\n",
       "      <td>U100001</td>\n",
       "      <td>남성</td>\n",
       "      <td>40대</td>\n",
       "      <td>2020</td>\n",
       "    </tr>\n",
       "    <tr>\n",
       "      <th>1</th>\n",
       "      <td>U100001</td>\n",
       "      <td>남성</td>\n",
       "      <td>40대</td>\n",
       "      <td>2021</td>\n",
       "    </tr>\n",
       "    <tr>\n",
       "      <th>2</th>\n",
       "      <td>U100002</td>\n",
       "      <td>여성</td>\n",
       "      <td>30대</td>\n",
       "      <td>2020</td>\n",
       "    </tr>\n",
       "    <tr>\n",
       "      <th>3</th>\n",
       "      <td>U100002</td>\n",
       "      <td>여성</td>\n",
       "      <td>30대</td>\n",
       "      <td>2021</td>\n",
       "    </tr>\n",
       "    <tr>\n",
       "      <th>4</th>\n",
       "      <td>U100003</td>\n",
       "      <td>남성</td>\n",
       "      <td>30대</td>\n",
       "      <td>2020</td>\n",
       "    </tr>\n",
       "    <tr>\n",
       "      <th>5</th>\n",
       "      <td>U100003</td>\n",
       "      <td>남성</td>\n",
       "      <td>30대</td>\n",
       "      <td>2021</td>\n",
       "    </tr>\n",
       "    <tr>\n",
       "      <th>6</th>\n",
       "      <td>U100004</td>\n",
       "      <td>남성</td>\n",
       "      <td>30대</td>\n",
       "      <td>2020</td>\n",
       "    </tr>\n",
       "    <tr>\n",
       "      <th>7</th>\n",
       "      <td>U100004</td>\n",
       "      <td>남성</td>\n",
       "      <td>30대</td>\n",
       "      <td>2021</td>\n",
       "    </tr>\n",
       "    <tr>\n",
       "      <th>8</th>\n",
       "      <td>U100005</td>\n",
       "      <td>여성</td>\n",
       "      <td>30대</td>\n",
       "      <td>2020</td>\n",
       "    </tr>\n",
       "    <tr>\n",
       "      <th>9</th>\n",
       "      <td>U100005</td>\n",
       "      <td>여성</td>\n",
       "      <td>30대</td>\n",
       "      <td>2021</td>\n",
       "    </tr>\n",
       "  </tbody>\n",
       "</table>\n",
       "</div>"
      ],
      "text/plain": [
       "    idUser Gender AgeGroup  UserYear\n",
       "0  U100001     남성      40대      2020\n",
       "1  U100001     남성      40대      2021\n",
       "2  U100002     여성      30대      2020\n",
       "3  U100002     여성      30대      2021\n",
       "4  U100003     남성      30대      2020\n",
       "5  U100003     남성      30대      2021\n",
       "6  U100004     남성      30대      2020\n",
       "7  U100004     남성      30대      2021\n",
       "8  U100005     여성      30대      2020\n",
       "9  U100005     여성      30대      2021"
      ]
     },
     "execution_count": 3,
     "metadata": {},
     "output_type": "execute_result"
    }
   ],
   "source": [
    "users.head(10)"
   ]
  },
  {
   "cell_type": "code",
   "execution_count": 4,
   "id": "c4a7b974",
   "metadata": {},
   "outputs": [
    {
     "name": "stdout",
     "output_type": "stream",
     "text": [
      "<class 'pandas.core.frame.DataFrame'>\n",
      "RangeIndex: 2122 entries, 0 to 2121\n",
      "Data columns (total 4 columns):\n",
      " #   Column    Non-Null Count  Dtype \n",
      "---  ------    --------------  ----- \n",
      " 0   idUser    2122 non-null   object\n",
      " 1   Gender    2122 non-null   object\n",
      " 2   AgeGroup  2122 non-null   object\n",
      " 3   UserYear  2122 non-null   int64 \n",
      "dtypes: int64(1), object(3)\n",
      "memory usage: 66.4+ KB\n"
     ]
    }
   ],
   "source": [
    "users.info()"
   ]
  },
  {
   "cell_type": "code",
   "execution_count": 5,
   "id": "57f79938",
   "metadata": {},
   "outputs": [
    {
     "data": {
      "text/plain": [
       "idUser      0\n",
       "Gender      0\n",
       "AgeGroup    0\n",
       "UserYear    0\n",
       "dtype: int64"
      ]
     },
     "execution_count": 5,
     "metadata": {},
     "output_type": "execute_result"
    }
   ],
   "source": [
    "users.isnull().sum()"
   ]
  },
  {
   "cell_type": "code",
   "execution_count": 6,
   "id": "13137846",
   "metadata": {},
   "outputs": [
    {
     "data": {
      "text/plain": [
       "<AxesSubplot:>"
      ]
     },
     "execution_count": 6,
     "metadata": {},
     "output_type": "execute_result"
    },
    {
     "data": {
      "image/png": "[encoded data removed]",
      "text/plain": [
       "<Figure size 640x480 with 1 Axes>"
      ]
     },
     "metadata": {},
     "output_type": "display_data"
    }
   ],
   "source": [
    "users['UserYear'].hist()"
   ]
  },
  {
   "cell_type": "code",
   "execution_count": 7,
   "id": "7a0d4db1",
   "metadata": {
    "scrolled": false
   },
   "outputs": [
    {
     "data": {
      "text/plain": [
       "<AxesSubplot:>"
      ]
     },
     "execution_count": 7,
     "metadata": {},
     "output_type": "execute_result"
    },
    {
     "data": {
      "image/png": "[encoded data removed]",
      "text/plain": [
       "<Figure size 640x480 with 1 Axes>"
      ]
     },
     "metadata": {},
     "output_type": "display_data"
    }
   ],
   "source": [
    "users['Gender'].hist()"
   ]
  },
  {
   "cell_type": "code",
   "execution_count": 8,
   "id": "7afd64b2",
   "metadata": {
    "scrolled": false
   },
   "outputs": [
    {
     "data": {
      "text/plain": [
       "<AxesSubplot:>"
      ]
     },
     "execution_count": 8,
     "metadata": {},
     "output_type": "execute_result"
    },
    {
     "data": {
      "image/png": "[encoded data removed]",
      "text/plain": [
       "<Figure size 640x480 with 1 Axes>"
      ]
     },
     "metadata": {},
     "output_type": "display_data"
    }
   ],
   "source": [
    "users['AgeGroup'].hist()"
   ]
  },
  {
   "cell_type": "code",
   "execution_count": 9,
   "id": "94e1138b",
   "metadata": {},
   "outputs": [
    {
     "data": {
      "text/html": [
       "<div>\n",
       "<style scoped>\n",
       "    .dataframe tbody tr th:only-of-type {\n",
       "        vertical-align: middle;\n",
       "    }\n",
       "\n",
       "    .dataframe tbody tr th {\n",
       "        vertical-align: top;\n",
       "    }\n",
       "\n",
       "    .dataframe thead th {\n",
       "        text-align: right;\n",
       "    }\n",
       "</style>\n",
       "<table border=\"1\" class=\"dataframe\">\n",
       "  <thead>\n",
       "    <tr style=\"text-align: right;\">\n",
       "      <th></th>\n",
       "      <th>idUser</th>\n",
       "      <th>Gender</th>\n",
       "      <th>AgeGroup</th>\n",
       "    </tr>\n",
       "  </thead>\n",
       "  <tbody>\n",
       "    <tr>\n",
       "      <th>0</th>\n",
       "      <td>U100001</td>\n",
       "      <td>남성</td>\n",
       "      <td>40대</td>\n",
       "    </tr>\n",
       "    <tr>\n",
       "      <th>2</th>\n",
       "      <td>U100002</td>\n",
       "      <td>여성</td>\n",
       "      <td>30대</td>\n",
       "    </tr>\n",
       "    <tr>\n",
       "      <th>4</th>\n",
       "      <td>U100003</td>\n",
       "      <td>남성</td>\n",
       "      <td>30대</td>\n",
       "    </tr>\n",
       "    <tr>\n",
       "      <th>6</th>\n",
       "      <td>U100004</td>\n",
       "      <td>남성</td>\n",
       "      <td>30대</td>\n",
       "    </tr>\n",
       "    <tr>\n",
       "      <th>8</th>\n",
       "      <td>U100005</td>\n",
       "      <td>여성</td>\n",
       "      <td>30대</td>\n",
       "    </tr>\n",
       "  </tbody>\n",
       "</table>\n",
       "</div>"
      ],
      "text/plain": [
       "    idUser Gender AgeGroup\n",
       "0  U100001     남성      40대\n",
       "2  U100002     여성      30대\n",
       "4  U100003     남성      30대\n",
       "6  U100004     남성      30대\n",
       "8  U100005     여성      30대"
      ]
     },
     "execution_count": 9,
     "metadata": {},
     "output_type": "execute_result"
    }
   ],
   "source": [
    "#user 변수 정리 - UserYear\n",
    "users=users.drop('UserYear', axis=1)\n",
    "users=users.drop_duplicates()\n",
    "users.head()"
   ]
  },
  {
   "cell_type": "markdown",
   "id": "ec94ec2b",
   "metadata": {},
   "source": [
    "# weather"
   ]
  },
  {
   "cell_type": "code",
   "execution_count": 10,
   "id": "b0829658",
   "metadata": {},
   "outputs": [
    {
     "data": {
      "text/html": [
       "<div>\n",
       "<style scoped>\n",
       "    .dataframe tbody tr th:only-of-type {\n",
       "        vertical-align: middle;\n",
       "    }\n",
       "\n",
       "    .dataframe tbody tr th {\n",
       "        vertical-align: top;\n",
       "    }\n",
       "\n",
       "    .dataframe thead th {\n",
       "        text-align: right;\n",
       "    }\n",
       "</style>\n",
       "<table border=\"1\" class=\"dataframe\">\n",
       "  <thead>\n",
       "    <tr style=\"text-align: right;\">\n",
       "      <th></th>\n",
       "      <th>AreaId</th>\n",
       "      <th>Area</th>\n",
       "      <th>dateObs</th>\n",
       "      <th>TempAvg</th>\n",
       "      <th>TempMin</th>\n",
       "      <th>hhmiTempMin</th>\n",
       "      <th>TempMax</th>\n",
       "      <th>hhmiTempMax</th>\n",
       "      <th>hourRainfall</th>\n",
       "      <th>RainfallAmount</th>\n",
       "      <th>HumidAvg</th>\n",
       "      <th>SnowloadMax</th>\n",
       "      <th>hhmiSnowloadMax</th>\n",
       "    </tr>\n",
       "  </thead>\n",
       "  <tbody>\n",
       "    <tr>\n",
       "      <th>0</th>\n",
       "      <td>108</td>\n",
       "      <td>서울</td>\n",
       "      <td>2020-01-01</td>\n",
       "      <td>-2.2</td>\n",
       "      <td>-6.5</td>\n",
       "      <td>1</td>\n",
       "      <td>0.3</td>\n",
       "      <td>1457</td>\n",
       "      <td>9.83</td>\n",
       "      <td>0.1</td>\n",
       "      <td>64.4</td>\n",
       "      <td>0.0</td>\n",
       "      <td>NaN</td>\n",
       "    </tr>\n",
       "    <tr>\n",
       "      <th>1</th>\n",
       "      <td>108</td>\n",
       "      <td>서울</td>\n",
       "      <td>2020-01-02</td>\n",
       "      <td>1.0</td>\n",
       "      <td>-0.7</td>\n",
       "      <td>1</td>\n",
       "      <td>3.8</td>\n",
       "      <td>1500</td>\n",
       "      <td>NaN</td>\n",
       "      <td>NaN</td>\n",
       "      <td>65.4</td>\n",
       "      <td>NaN</td>\n",
       "      <td>NaN</td>\n",
       "    </tr>\n",
       "    <tr>\n",
       "      <th>2</th>\n",
       "      <td>108</td>\n",
       "      <td>서울</td>\n",
       "      <td>2020-01-03</td>\n",
       "      <td>-0.1</td>\n",
       "      <td>-3.4</td>\n",
       "      <td>807</td>\n",
       "      <td>4.6</td>\n",
       "      <td>1547</td>\n",
       "      <td>NaN</td>\n",
       "      <td>NaN</td>\n",
       "      <td>56.9</td>\n",
       "      <td>NaN</td>\n",
       "      <td>NaN</td>\n",
       "    </tr>\n",
       "    <tr>\n",
       "      <th>3</th>\n",
       "      <td>108</td>\n",
       "      <td>서울</td>\n",
       "      <td>2020-01-04</td>\n",
       "      <td>1.2</td>\n",
       "      <td>-2.8</td>\n",
       "      <td>512</td>\n",
       "      <td>6.1</td>\n",
       "      <td>1450</td>\n",
       "      <td>NaN</td>\n",
       "      <td>NaN</td>\n",
       "      <td>50.8</td>\n",
       "      <td>NaN</td>\n",
       "      <td>NaN</td>\n",
       "    </tr>\n",
       "    <tr>\n",
       "      <th>4</th>\n",
       "      <td>108</td>\n",
       "      <td>서울</td>\n",
       "      <td>2020-01-05</td>\n",
       "      <td>1.3</td>\n",
       "      <td>-3.2</td>\n",
       "      <td>821</td>\n",
       "      <td>6.6</td>\n",
       "      <td>1453</td>\n",
       "      <td>NaN</td>\n",
       "      <td>NaN</td>\n",
       "      <td>45.6</td>\n",
       "      <td>NaN</td>\n",
       "      <td>NaN</td>\n",
       "    </tr>\n",
       "  </tbody>\n",
       "</table>\n",
       "</div>"
      ],
      "text/plain": [
       "   AreaId Area     dateObs  TempAvg  TempMin  hhmiTempMin  TempMax  \\\n",
       "0     108   서울  2020-01-01     -2.2     -6.5            1      0.3   \n",
       "1     108   서울  2020-01-02      1.0     -0.7            1      3.8   \n",
       "2     108   서울  2020-01-03     -0.1     -3.4          807      4.6   \n",
       "3     108   서울  2020-01-04      1.2     -2.8          512      6.1   \n",
       "4     108   서울  2020-01-05      1.3     -3.2          821      6.6   \n",
       "\n",
       "   hhmiTempMax  hourRainfall  RainfallAmount  HumidAvg  SnowloadMax  \\\n",
       "0         1457          9.83             0.1      64.4          0.0   \n",
       "1         1500           NaN             NaN      65.4          NaN   \n",
       "2         1547           NaN             NaN      56.9          NaN   \n",
       "3         1450           NaN             NaN      50.8          NaN   \n",
       "4         1453           NaN             NaN      45.6          NaN   \n",
       "\n",
       "   hhmiSnowloadMax  \n",
       "0              NaN  \n",
       "1              NaN  \n",
       "2              NaN  \n",
       "3              NaN  \n",
       "4              NaN  "
      ]
     },
     "execution_count": 10,
     "metadata": {},
     "output_type": "execute_result"
    }
   ],
   "source": [
    "weather.head()"
   ]
  },
  {
   "cell_type": "code",
   "execution_count": 11,
   "id": "f941dfa1",
   "metadata": {
    "scrolled": true
   },
   "outputs": [
    {
     "name": "stdout",
     "output_type": "stream",
     "text": [
      "<class 'pandas.core.frame.DataFrame'>\n",
      "RangeIndex: 731 entries, 0 to 730\n",
      "Data columns (total 13 columns):\n",
      " #   Column           Non-Null Count  Dtype  \n",
      "---  ------           --------------  -----  \n",
      " 0   AreaId           731 non-null    int64  \n",
      " 1   Area             731 non-null    object \n",
      " 2   dateObs          731 non-null    object \n",
      " 3   TempAvg          731 non-null    float64\n",
      " 4   TempMin          731 non-null    float64\n",
      " 5   hhmiTempMin      731 non-null    int64  \n",
      " 6   TempMax          731 non-null    float64\n",
      " 7   hhmiTempMax      731 non-null    int64  \n",
      " 8   hourRainfall     311 non-null    float64\n",
      " 9   RainfallAmount   311 non-null    float64\n",
      " 10  HumidAvg         731 non-null    float64\n",
      " 11  SnowloadMax      24 non-null     float64\n",
      " 12  hhmiSnowloadMax  19 non-null     float64\n",
      "dtypes: float64(8), int64(3), object(2)\n",
      "memory usage: 74.4+ KB\n"
     ]
    }
   ],
   "source": [
    "weather.info()"
   ]
  },
  {
   "cell_type": "code",
   "execution_count": 12,
   "id": "a53dea16",
   "metadata": {
    "scrolled": true
   },
   "outputs": [
    {
     "data": {
      "text/plain": [
       "AreaId               0\n",
       "Area                 0\n",
       "dateObs              0\n",
       "TempAvg              0\n",
       "TempMin              0\n",
       "hhmiTempMin          0\n",
       "TempMax              0\n",
       "hhmiTempMax          0\n",
       "hourRainfall       420\n",
       "RainfallAmount     420\n",
       "HumidAvg             0\n",
       "SnowloadMax        707\n",
       "hhmiSnowloadMax    712\n",
       "dtype: int64"
      ]
     },
     "execution_count": 12,
     "metadata": {},
     "output_type": "execute_result"
    }
   ],
   "source": [
    "weather.isnull().sum()"
   ]
  },
  {
   "cell_type": "code",
   "execution_count": 13,
   "id": "05bde9f5",
   "metadata": {
    "scrolled": true
   },
   "outputs": [],
   "source": [
    "weather[['hourRainfall','RainfallAmount','SnowloadMax','hhmiSnowloadMax']] = \\\n",
    "weather[['hourRainfall','RainfallAmount','SnowloadMax','hhmiSnowloadMax']].fillna(0)"
   ]
  },
  {
   "cell_type": "code",
   "execution_count": 14,
   "id": "5a836638",
   "metadata": {},
   "outputs": [
    {
     "data": {
      "text/plain": [
       "<AxesSubplot:>"
      ]
     },
     "execution_count": 14,
     "metadata": {},
     "output_type": "execute_result"
    },
    {
     "data": {
      "image/png": "[encoded data removed]",
      "text/plain": [
       "<Figure size 640x480 with 1 Axes>"
      ]
     },
     "metadata": {},
     "output_type": "display_data"
    }
   ],
   "source": [
    "weather['AreaId'].hist()"
   ]
  },
  {
   "cell_type": "code",
   "execution_count": 15,
   "id": "4e1ed6be",
   "metadata": {},
   "outputs": [
    {
     "data": {
      "text/plain": [
       "<AxesSubplot:>"
      ]
     },
     "execution_count": 15,
     "metadata": {},
     "output_type": "execute_result"
    },
    {
     "data": {
      "image/png": "[encoded data removed]",
      "text/plain": [
       "<Figure size 640x480 with 1 Axes>"
      ]
     },
     "metadata": {},
     "output_type": "display_data"
    }
   ],
   "source": [
    "weather['Area'].hist()"
   ]
  },
  {
   "cell_type": "code",
   "execution_count": 16,
   "id": "824937f3",
   "metadata": {},
   "outputs": [
    {
     "data": {
      "text/plain": [
       "<AxesSubplot:>"
      ]
     },
     "execution_count": 16,
     "metadata": {},
     "output_type": "execute_result"
    },
    {
     "name": "stderr",
     "output_type": "stream",
     "text": [
      "/home/piai/anaconda3/lib/python3.9/site-packages/IPython/core/pylabtools.py:151: UserWarning: Glyph 8722 (\\N{MINUS SIGN}) missing from current font.\n",
      "  fig.canvas.print_figure(bytes_io, **kw)\n"
     ]
    },
    {
     "data": {
      "image/png": "[encoded data removed]",
      "text/plain": [
       "<Figure size 640x480 with 1 Axes>"
      ]
     },
     "metadata": {},
     "output_type": "display_data"
    }
   ],
   "source": [
    "weather['TempAvg'].hist()"
   ]
  },
  {
   "cell_type": "code",
   "execution_count": 17,
   "id": "0c6e5757",
   "metadata": {},
   "outputs": [
    {
     "data": {
      "text/plain": [
       "<AxesSubplot:>"
      ]
     },
     "execution_count": 17,
     "metadata": {},
     "output_type": "execute_result"
    },
    {
     "data": {
      "image/png": "[encoded data removed]",
      "text/plain": [
       "<Figure size 640x480 with 1 Axes>"
      ]
     },
     "metadata": {},
     "output_type": "display_data"
    }
   ],
   "source": [
    "weather['TempMin'].hist()"
   ]
  },
  {
   "cell_type": "code",
   "execution_count": 18,
   "id": "a94215a4",
   "metadata": {},
   "outputs": [
    {
     "data": {
      "text/plain": [
       "<AxesSubplot:>"
      ]
     },
     "execution_count": 18,
     "metadata": {},
     "output_type": "execute_result"
    },
    {
     "data": {
      "image/png": "[encoded data removed]",
      "text/plain": [
       "<Figure size 640x480 with 1 Axes>"
      ]
     },
     "metadata": {},
     "output_type": "display_data"
    }
   ],
   "source": [
    "weather['TempMax'].hist()"
   ]
  },
  {
   "cell_type": "code",
   "execution_count": 19,
   "id": "60fdb160",
   "metadata": {},
   "outputs": [
    {
     "data": {
      "text/plain": [
       "<AxesSubplot:>"
      ]
     },
     "execution_count": 19,
     "metadata": {},
     "output_type": "execute_result"
    },
    {
     "data": {
      "image/png": "[encoded data removed]",
      "text/plain": [
       "<Figure size 640x480 with 1 Axes>"
      ]
     },
     "metadata": {},
     "output_type": "display_data"
    }
   ],
   "source": [
    "weather['hhmiTempMin'].hist()"
   ]
  },
  {
   "cell_type": "code",
   "execution_count": 20,
   "id": "148e1002",
   "metadata": {},
   "outputs": [
    {
     "data": {
      "text/plain": [
       "0      False\n",
       "1      False\n",
       "2      False\n",
       "3      False\n",
       "4      False\n",
       "       ...  \n",
       "726    False\n",
       "727    False\n",
       "728    False\n",
       "729    False\n",
       "730    False\n",
       "Name: hhmiTempMin, Length: 731, dtype: bool"
      ]
     },
     "execution_count": 20,
     "metadata": {},
     "output_type": "execute_result"
    }
   ],
   "source": [
    "weather['hhmiTempMin'] > 1200"
   ]
  },
  {
   "cell_type": "code",
   "execution_count": 21,
   "id": "be58914c",
   "metadata": {},
   "outputs": [
    {
     "data": {
      "text/plain": [
       "<AxesSubplot:>"
      ]
     },
     "execution_count": 21,
     "metadata": {},
     "output_type": "execute_result"
    },
    {
     "data": {
      "image/png": "[encoded data removed]",
      "text/plain": [
       "<Figure size 640x480 with 1 Axes>"
      ]
     },
     "metadata": {},
     "output_type": "display_data"
    }
   ],
   "source": [
    "weather['hhmiTempMax'].hist()"
   ]
  },
  {
   "cell_type": "code",
   "execution_count": 22,
   "id": "ecdaa66c",
   "metadata": {},
   "outputs": [
    {
     "data": {
      "text/plain": [
       "<AxesSubplot:>"
      ]
     },
     "execution_count": 22,
     "metadata": {},
     "output_type": "execute_result"
    },
    {
     "data": {
      "image/png": "[encoded data removed]",
      "text/plain": [
       "<Figure size 640x480 with 1 Axes>"
      ]
     },
     "metadata": {},
     "output_type": "display_data"
    }
   ],
   "source": [
    "weather['hourRainfall'].hist()"
   ]
  },
  {
   "cell_type": "code",
   "execution_count": 23,
   "id": "84dbca6b",
   "metadata": {
    "scrolled": false
   },
   "outputs": [
    {
     "data": {
      "text/plain": [
       "<AxesSubplot:>"
      ]
     },
     "execution_count": 23,
     "metadata": {},
     "output_type": "execute_result"
    },
    {
     "data": {
      "image/png": "[encoded data removed]",
      "text/plain": [
       "<Figure size 640x480 with 1 Axes>"
      ]
     },
     "metadata": {},
     "output_type": "display_data"
    }
   ],
   "source": [
    "weather['RainfallAmount'].hist()"
   ]
  },
  {
   "cell_type": "code",
   "execution_count": 24,
   "id": "1bd8fae4",
   "metadata": {
    "scrolled": false
   },
   "outputs": [
    {
     "data": {
      "text/plain": [
       "<AxesSubplot:>"
      ]
     },
     "execution_count": 24,
     "metadata": {},
     "output_type": "execute_result"
    },
    {
     "data": {
      "image/png": "[encoded data removed]",
      "text/plain": [
       "<Figure size 640x480 with 1 Axes>"
      ]
     },
     "metadata": {},
     "output_type": "display_data"
    }
   ],
   "source": [
    "weather['HumidAvg'].hist()"
   ]
  },
  {
   "cell_type": "code",
   "execution_count": 25,
   "id": "c39702c3",
   "metadata": {
    "scrolled": false
   },
   "outputs": [
    {
     "data": {
      "text/plain": [
       "<AxesSubplot:>"
      ]
     },
     "execution_count": 25,
     "metadata": {},
     "output_type": "execute_result"
    },
    {
     "data": {
      "image/png": "[encoded data removed]",
      "text/plain": [
       "<Figure size 640x480 with 1 Axes>"
      ]
     },
     "metadata": {},
     "output_type": "display_data"
    }
   ],
   "source": [
    "weather['SnowloadMax'].hist()"
   ]
  },
  {
   "cell_type": "code",
   "execution_count": 26,
   "id": "38b2e1ba",
   "metadata": {
    "scrolled": false
   },
   "outputs": [
    {
     "data": {
      "text/plain": [
       "<AxesSubplot:>"
      ]
     },
     "execution_count": 26,
     "metadata": {},
     "output_type": "execute_result"
    },
    {
     "data": {
      "image/png": "[encoded data removed]",
      "text/plain": [
       "<Figure size 640x480 with 1 Axes>"
      ]
     },
     "metadata": {},
     "output_type": "display_data"
    }
   ],
   "source": [
    "weather['hhmiSnowloadMax'].hist()"
   ]
  },
  {
   "cell_type": "code",
   "execution_count": 27,
   "id": "0f34b1fb",
   "metadata": {},
   "outputs": [],
   "source": [
    "weather = weather.drop(['AreaId','Area','SnowloadMax',\n",
    "                        'hhmiSnowloadMax','hhmiTempMin','hhmiTempMax'],axis=1)"
   ]
  },
  {
   "cell_type": "code",
   "execution_count": 28,
   "id": "a4be4197",
   "metadata": {
    "scrolled": false
   },
   "outputs": [
    {
     "name": "stdout",
     "output_type": "stream",
     "text": [
      "<class 'pandas.core.frame.DataFrame'>\n",
      "RangeIndex: 731 entries, 0 to 730\n",
      "Data columns (total 7 columns):\n",
      " #   Column          Non-Null Count  Dtype  \n",
      "---  ------          --------------  -----  \n",
      " 0   dateObs         731 non-null    object \n",
      " 1   TempAvg         731 non-null    float64\n",
      " 2   TempMin         731 non-null    float64\n",
      " 3   TempMax         731 non-null    float64\n",
      " 4   hourRainfall    731 non-null    float64\n",
      " 5   RainfallAmount  731 non-null    float64\n",
      " 6   HumidAvg        731 non-null    float64\n",
      "dtypes: float64(6), object(1)\n",
      "memory usage: 40.1+ KB\n"
     ]
    }
   ],
   "source": [
    "weather.info()"
   ]
  },
  {
   "cell_type": "markdown",
   "id": "a4b16177",
   "metadata": {},
   "source": [
    "# sales"
   ]
  },
  {
   "cell_type": "code",
   "execution_count": 29,
   "id": "582391d2",
   "metadata": {
    "scrolled": true
   },
   "outputs": [
    {
     "data": {
      "text/html": [
       "<div>\n",
       "<style scoped>\n",
       "    .dataframe tbody tr th:only-of-type {\n",
       "        vertical-align: middle;\n",
       "    }\n",
       "\n",
       "    .dataframe tbody tr th {\n",
       "        vertical-align: top;\n",
       "    }\n",
       "\n",
       "    .dataframe thead th {\n",
       "        text-align: right;\n",
       "    }\n",
       "</style>\n",
       "<table border=\"1\" class=\"dataframe\">\n",
       "  <thead>\n",
       "    <tr style=\"text-align: right;\">\n",
       "      <th></th>\n",
       "      <th>idUser</th>\n",
       "      <th>idPOS</th>\n",
       "      <th>SalesDT</th>\n",
       "      <th>SalesDate</th>\n",
       "      <th>SalesYear</th>\n",
       "      <th>SalesYearMonth</th>\n",
       "      <th>SalesMonth</th>\n",
       "      <th>SalesDow</th>\n",
       "      <th>SalesHour</th>\n",
       "      <th>ItemId</th>\n",
       "      <th>ItemName</th>\n",
       "    </tr>\n",
       "  </thead>\n",
       "  <tbody>\n",
       "    <tr>\n",
       "      <th>0</th>\n",
       "      <td>U100001</td>\n",
       "      <td>U100001-POS2020-10001</td>\n",
       "      <td>2020-01-01T10:47:03</td>\n",
       "      <td>2020-01-01</td>\n",
       "      <td>2020</td>\n",
       "      <td>2020-01</td>\n",
       "      <td>1</td>\n",
       "      <td>수요일</td>\n",
       "      <td>10</td>\n",
       "      <td>I-8801007795751</td>\n",
       "      <td>CJ)고메모짜돈카츠450g</td>\n",
       "    </tr>\n",
       "    <tr>\n",
       "      <th>1</th>\n",
       "      <td>U100001</td>\n",
       "      <td>U100001-POS2020-10001</td>\n",
       "      <td>2020-01-01T10:47:03</td>\n",
       "      <td>2020-01-01</td>\n",
       "      <td>2020</td>\n",
       "      <td>2020-01</td>\n",
       "      <td>1</td>\n",
       "      <td>수요일</td>\n",
       "      <td>10</td>\n",
       "      <td>I-8801056170059</td>\n",
       "      <td>롯)칠성사이다복숭아P500</td>\n",
       "    </tr>\n",
       "    <tr>\n",
       "      <th>2</th>\n",
       "      <td>U100001</td>\n",
       "      <td>U100001-POS2020-10001</td>\n",
       "      <td>2020-01-01T10:47:03</td>\n",
       "      <td>2020-01-01</td>\n",
       "      <td>2020</td>\n",
       "      <td>2020-01</td>\n",
       "      <td>1</td>\n",
       "      <td>수요일</td>\n",
       "      <td>10</td>\n",
       "      <td>I-8809640112157</td>\n",
       "      <td>PSK)스윗사파이어포도400g</td>\n",
       "    </tr>\n",
       "    <tr>\n",
       "      <th>3</th>\n",
       "      <td>U100001</td>\n",
       "      <td>U100001-POS2020-10004</td>\n",
       "      <td>2020-01-05T19:08:12</td>\n",
       "      <td>2020-01-05</td>\n",
       "      <td>2020</td>\n",
       "      <td>2020-01</td>\n",
       "      <td>1</td>\n",
       "      <td>일요일</td>\n",
       "      <td>19</td>\n",
       "      <td>I-8801045611211</td>\n",
       "      <td>오뚜기)물엿700g</td>\n",
       "    </tr>\n",
       "    <tr>\n",
       "      <th>4</th>\n",
       "      <td>U100001</td>\n",
       "      <td>U100001-POS2020-10004</td>\n",
       "      <td>2020-01-05T19:08:12</td>\n",
       "      <td>2020-01-05</td>\n",
       "      <td>2020</td>\n",
       "      <td>2020-01</td>\n",
       "      <td>1</td>\n",
       "      <td>일요일</td>\n",
       "      <td>19</td>\n",
       "      <td>I-8809253648470</td>\n",
       "      <td>22del)헤이즐넛향1L</td>\n",
       "    </tr>\n",
       "  </tbody>\n",
       "</table>\n",
       "</div>"
      ],
      "text/plain": [
       "    idUser                  idPOS              SalesDT   SalesDate  SalesYear  \\\n",
       "0  U100001  U100001-POS2020-10001  2020-01-01T10:47:03  2020-01-01       2020   \n",
       "1  U100001  U100001-POS2020-10001  2020-01-01T10:47:03  2020-01-01       2020   \n",
       "2  U100001  U100001-POS2020-10001  2020-01-01T10:47:03  2020-01-01       2020   \n",
       "3  U100001  U100001-POS2020-10004  2020-01-05T19:08:12  2020-01-05       2020   \n",
       "4  U100001  U100001-POS2020-10004  2020-01-05T19:08:12  2020-01-05       2020   \n",
       "\n",
       "  SalesYearMonth  SalesMonth SalesDow  SalesHour           ItemId  \\\n",
       "0        2020-01           1      수요일         10  I-8801007795751   \n",
       "1        2020-01           1      수요일         10  I-8801056170059   \n",
       "2        2020-01           1      수요일         10  I-8809640112157   \n",
       "3        2020-01           1      일요일         19  I-8801045611211   \n",
       "4        2020-01           1      일요일         19  I-8809253648470   \n",
       "\n",
       "           ItemName  \n",
       "0    CJ)고메모짜돈카츠450g  \n",
       "1    롯)칠성사이다복숭아P500  \n",
       "2  PSK)스윗사파이어포도400g  \n",
       "3        오뚜기)물엿700g  \n",
       "4     22del)헤이즐넛향1L  "
      ]
     },
     "execution_count": 29,
     "metadata": {},
     "output_type": "execute_result"
    }
   ],
   "source": [
    "sales.head()"
   ]
  },
  {
   "cell_type": "code",
   "execution_count": 30,
   "id": "8db1120a",
   "metadata": {
    "scrolled": true
   },
   "outputs": [
    {
     "data": {
      "text/plain": [
       "idUser            0\n",
       "idPOS             0\n",
       "SalesDT           0\n",
       "SalesDate         0\n",
       "SalesYear         0\n",
       "SalesYearMonth    0\n",
       "SalesMonth        0\n",
       "SalesDow          0\n",
       "SalesHour         0\n",
       "ItemId            0\n",
       "ItemName          0\n",
       "dtype: int64"
      ]
     },
     "execution_count": 30,
     "metadata": {},
     "output_type": "execute_result"
    }
   ],
   "source": [
    "sales.isnull().sum()"
   ]
  },
  {
   "cell_type": "markdown",
   "id": "081e66b3",
   "metadata": {},
   "source": [
    "# items"
   ]
  },
  {
   "cell_type": "code",
   "execution_count": 31,
   "id": "fb37d984",
   "metadata": {
    "scrolled": true
   },
   "outputs": [
    {
     "data": {
      "text/html": [
       "<div>\n",
       "<style scoped>\n",
       "    .dataframe tbody tr th:only-of-type {\n",
       "        vertical-align: middle;\n",
       "    }\n",
       "\n",
       "    .dataframe tbody tr th {\n",
       "        vertical-align: top;\n",
       "    }\n",
       "\n",
       "    .dataframe thead th {\n",
       "        text-align: right;\n",
       "    }\n",
       "</style>\n",
       "<table border=\"1\" class=\"dataframe\">\n",
       "  <thead>\n",
       "    <tr style=\"text-align: right;\">\n",
       "      <th></th>\n",
       "      <th>ItemIdLarge</th>\n",
       "      <th>ItemNameLarge</th>\n",
       "      <th>ItemIdMiddle</th>\n",
       "      <th>ItemNameMiddle</th>\n",
       "      <th>ItemId</th>\n",
       "      <th>ItemName</th>\n",
       "      <th>Item_CatORMaker</th>\n",
       "      <th>Price</th>\n",
       "      <th>ImageUrl</th>\n",
       "    </tr>\n",
       "  </thead>\n",
       "  <tbody>\n",
       "    <tr>\n",
       "      <th>0</th>\n",
       "      <td>L1</td>\n",
       "      <td>간편식사</td>\n",
       "      <td>M1</td>\n",
       "      <td>도시락</td>\n",
       "      <td>I-8801068371857</td>\n",
       "      <td>샐)치킨찹찹샐러드</td>\n",
       "      <td>샐러드</td>\n",
       "      <td>3500</td>\n",
       "      <td>https://tqklhszfkvzk6518638.cdn.ntruss.com/pro...</td>\n",
       "    </tr>\n",
       "    <tr>\n",
       "      <th>1</th>\n",
       "      <td>L1</td>\n",
       "      <td>간편식사</td>\n",
       "      <td>M1</td>\n",
       "      <td>도시락</td>\n",
       "      <td>I-8801068371864</td>\n",
       "      <td>샐)퀴노아바질샐러드</td>\n",
       "      <td>샐러드</td>\n",
       "      <td>3500</td>\n",
       "      <td>https://tqklhszfkvzk6518638.cdn.ntruss.com/pro...</td>\n",
       "    </tr>\n",
       "    <tr>\n",
       "      <th>2</th>\n",
       "      <td>L1</td>\n",
       "      <td>간편식사</td>\n",
       "      <td>M1</td>\n",
       "      <td>도시락</td>\n",
       "      <td>I-8801068378887</td>\n",
       "      <td>샐)에그가먼저닭샐러드</td>\n",
       "      <td>샐러드</td>\n",
       "      <td>3500</td>\n",
       "      <td>https://tqklhszfkvzk6518638.cdn.ntruss.com/pro...</td>\n",
       "    </tr>\n",
       "    <tr>\n",
       "      <th>3</th>\n",
       "      <td>L1</td>\n",
       "      <td>간편식사</td>\n",
       "      <td>M1</td>\n",
       "      <td>도시락</td>\n",
       "      <td>I-8801068388664</td>\n",
       "      <td>샐)흑임자치킨샐러드</td>\n",
       "      <td>샐러드</td>\n",
       "      <td>3500</td>\n",
       "      <td>https://tqklhszfkvzk6518638.cdn.ntruss.com/pro...</td>\n",
       "    </tr>\n",
       "    <tr>\n",
       "      <th>4</th>\n",
       "      <td>L1</td>\n",
       "      <td>간편식사</td>\n",
       "      <td>M1</td>\n",
       "      <td>도시락</td>\n",
       "      <td>I-8801068389340</td>\n",
       "      <td>면)나폴리탄파스타</td>\n",
       "      <td>면</td>\n",
       "      <td>4000</td>\n",
       "      <td>https://tqklhszfkvzk6518638.cdn.ntruss.com/pro...</td>\n",
       "    </tr>\n",
       "  </tbody>\n",
       "</table>\n",
       "</div>"
      ],
      "text/plain": [
       "  ItemIdLarge ItemNameLarge ItemIdMiddle ItemNameMiddle           ItemId  \\\n",
       "0          L1          간편식사           M1            도시락  I-8801068371857   \n",
       "1          L1          간편식사           M1            도시락  I-8801068371864   \n",
       "2          L1          간편식사           M1            도시락  I-8801068378887   \n",
       "3          L1          간편식사           M1            도시락  I-8801068388664   \n",
       "4          L1          간편식사           M1            도시락  I-8801068389340   \n",
       "\n",
       "      ItemName Item_CatORMaker  Price  \\\n",
       "0    샐)치킨찹찹샐러드             샐러드   3500   \n",
       "1   샐)퀴노아바질샐러드             샐러드   3500   \n",
       "2  샐)에그가먼저닭샐러드             샐러드   3500   \n",
       "3   샐)흑임자치킨샐러드             샐러드   3500   \n",
       "4    면)나폴리탄파스타               면   4000   \n",
       "\n",
       "                                            ImageUrl  \n",
       "0  https://tqklhszfkvzk6518638.cdn.ntruss.com/pro...  \n",
       "1  https://tqklhszfkvzk6518638.cdn.ntruss.com/pro...  \n",
       "2  https://tqklhszfkvzk6518638.cdn.ntruss.com/pro...  \n",
       "3  https://tqklhszfkvzk6518638.cdn.ntruss.com/pro...  \n",
       "4  https://tqklhszfkvzk6518638.cdn.ntruss.com/pro...  "
      ]
     },
     "execution_count": 31,
     "metadata": {},
     "output_type": "execute_result"
    }
   ],
   "source": [
    "items.head()"
   ]
  },
  {
   "cell_type": "code",
   "execution_count": 32,
   "id": "00557841",
   "metadata": {
    "scrolled": false
   },
   "outputs": [
    {
     "data": {
      "text/plain": [
       "ItemIdLarge         0\n",
       "ItemNameLarge       0\n",
       "ItemIdMiddle        0\n",
       "ItemNameMiddle      0\n",
       "ItemId              0\n",
       "ItemName            0\n",
       "Item_CatORMaker    17\n",
       "Price               0\n",
       "ImageUrl            0\n",
       "dtype: int64"
      ]
     },
     "execution_count": 32,
     "metadata": {},
     "output_type": "execute_result"
    }
   ],
   "source": [
    "items.isnull().sum()"
   ]
  },
  {
   "cell_type": "code",
   "execution_count": 33,
   "id": "4d91f38f",
   "metadata": {
    "scrolled": true
   },
   "outputs": [
    {
     "data": {
      "text/html": [
       "<div>\n",
       "<style scoped>\n",
       "    .dataframe tbody tr th:only-of-type {\n",
       "        vertical-align: middle;\n",
       "    }\n",
       "\n",
       "    .dataframe tbody tr th {\n",
       "        vertical-align: top;\n",
       "    }\n",
       "\n",
       "    .dataframe thead th {\n",
       "        text-align: right;\n",
       "    }\n",
       "</style>\n",
       "<table border=\"1\" class=\"dataframe\">\n",
       "  <thead>\n",
       "    <tr style=\"text-align: right;\">\n",
       "      <th></th>\n",
       "      <th>ItemIdLarge</th>\n",
       "      <th>ItemNameLarge</th>\n",
       "      <th>ItemIdMiddle</th>\n",
       "      <th>ItemNameMiddle</th>\n",
       "      <th>ItemId</th>\n",
       "      <th>ItemName</th>\n",
       "      <th>Item_CatORMaker</th>\n",
       "      <th>Price</th>\n",
       "      <th>ImageUrl</th>\n",
       "    </tr>\n",
       "  </thead>\n",
       "  <tbody>\n",
       "    <tr>\n",
       "      <th>589</th>\n",
       "      <td>L3</td>\n",
       "      <td>과자류</td>\n",
       "      <td>M1</td>\n",
       "      <td>스낵/비스켓</td>\n",
       "      <td>I-8801062879090</td>\n",
       "      <td>ABC초코쿠키쿠앤크</td>\n",
       "      <td>NaN</td>\n",
       "      <td>1000</td>\n",
       "      <td>https://tqklhszfkvzk6518638.cdn.ntruss.com/pro...</td>\n",
       "    </tr>\n",
       "    <tr>\n",
       "      <th>1396</th>\n",
       "      <td>L3</td>\n",
       "      <td>과자류</td>\n",
       "      <td>M3</td>\n",
       "      <td>껌/초콜릿/캔디</td>\n",
       "      <td>I-2201148612355</td>\n",
       "      <td>푸쉬팝캔디</td>\n",
       "      <td>NaN</td>\n",
       "      <td>1200</td>\n",
       "      <td>http://cdn2.bgfretail.com/bgfbrand/files/produ...</td>\n",
       "    </tr>\n",
       "    <tr>\n",
       "      <th>1457</th>\n",
       "      <td>L3</td>\n",
       "      <td>과자류</td>\n",
       "      <td>M3</td>\n",
       "      <td>껌/초콜릿/캔디</td>\n",
       "      <td>I-6934290104152</td>\n",
       "      <td>주사위팝33g</td>\n",
       "      <td>NaN</td>\n",
       "      <td>1200</td>\n",
       "      <td>https://tqklhszfkvzk6518638.cdn.ntruss.com/pro...</td>\n",
       "    </tr>\n",
       "    <tr>\n",
       "      <th>1668</th>\n",
       "      <td>L3</td>\n",
       "      <td>과자류</td>\n",
       "      <td>M3</td>\n",
       "      <td>껌/초콜릿/캔디</td>\n",
       "      <td>I-8804973306204</td>\n",
       "      <td>몰티져스밀크37g</td>\n",
       "      <td>NaN</td>\n",
       "      <td>1500</td>\n",
       "      <td>https://tqklhszfkvzk6518638.cdn.ntruss.com/pro...</td>\n",
       "    </tr>\n",
       "    <tr>\n",
       "      <th>1676</th>\n",
       "      <td>L3</td>\n",
       "      <td>과자류</td>\n",
       "      <td>M3</td>\n",
       "      <td>껌/초콜릿/캔디</td>\n",
       "      <td>I-8809008810022</td>\n",
       "      <td>리얼딸기초코볼</td>\n",
       "      <td>NaN</td>\n",
       "      <td>2500</td>\n",
       "      <td>https://tqklhszfkvzk6518638.cdn.ntruss.com/pro...</td>\n",
       "    </tr>\n",
       "    <tr>\n",
       "      <th>1847</th>\n",
       "      <td>L4</td>\n",
       "      <td>아이스크림</td>\n",
       "      <td>M1</td>\n",
       "      <td>아이스크림</td>\n",
       "      <td>I-8801062422838</td>\n",
       "      <td>본젤라또치즈베리콘</td>\n",
       "      <td>NaN</td>\n",
       "      <td>2000</td>\n",
       "      <td>http://cdn2.bgfretail.com/bgfbrand/files/produ...</td>\n",
       "    </tr>\n",
       "    <tr>\n",
       "      <th>3076</th>\n",
       "      <td>L5</td>\n",
       "      <td>식품</td>\n",
       "      <td>M3</td>\n",
       "      <td>식재료</td>\n",
       "      <td>I-2201148613918</td>\n",
       "      <td>바나나2입</td>\n",
       "      <td>NaN</td>\n",
       "      <td>1300</td>\n",
       "      <td>https://tqklhszfkvzk6518638.cdn.ntruss.com/pro...</td>\n",
       "    </tr>\n",
       "    <tr>\n",
       "      <th>3077</th>\n",
       "      <td>L5</td>\n",
       "      <td>식품</td>\n",
       "      <td>M3</td>\n",
       "      <td>식재료</td>\n",
       "      <td>I-2201148614045</td>\n",
       "      <td>세척사과</td>\n",
       "      <td>NaN</td>\n",
       "      <td>1500</td>\n",
       "      <td>https://tqklhszfkvzk6518638.cdn.ntruss.com/pro...</td>\n",
       "    </tr>\n",
       "    <tr>\n",
       "      <th>3078</th>\n",
       "      <td>L5</td>\n",
       "      <td>식품</td>\n",
       "      <td>M3</td>\n",
       "      <td>식재료</td>\n",
       "      <td>I-2201148614274</td>\n",
       "      <td>바나나1입</td>\n",
       "      <td>NaN</td>\n",
       "      <td>700</td>\n",
       "      <td>https://tqklhszfkvzk6518638.cdn.ntruss.com/pro...</td>\n",
       "    </tr>\n",
       "    <tr>\n",
       "      <th>3569</th>\n",
       "      <td>L6</td>\n",
       "      <td>음료</td>\n",
       "      <td>M1</td>\n",
       "      <td>음료</td>\n",
       "      <td>I-4005906404835</td>\n",
       "      <td>파워오투오렌지레몬</td>\n",
       "      <td>NaN</td>\n",
       "      <td>2100</td>\n",
       "      <td>http://cdn2.bgfretail.com/bgfbrand/files/produ...</td>\n",
       "    </tr>\n",
       "    <tr>\n",
       "      <th>3570</th>\n",
       "      <td>L6</td>\n",
       "      <td>음료</td>\n",
       "      <td>M1</td>\n",
       "      <td>음료</td>\n",
       "      <td>I-4710088102010</td>\n",
       "      <td>85도씨대만소금커피300ml</td>\n",
       "      <td>NaN</td>\n",
       "      <td>2000</td>\n",
       "      <td>https://tqklhszfkvzk6518638.cdn.ntruss.com/pro...</td>\n",
       "    </tr>\n",
       "    <tr>\n",
       "      <th>3575</th>\n",
       "      <td>L6</td>\n",
       "      <td>음료</td>\n",
       "      <td>M1</td>\n",
       "      <td>음료</td>\n",
       "      <td>I-6901035622493</td>\n",
       "      <td>칭따오무알콜캔330ml</td>\n",
       "      <td>NaN</td>\n",
       "      <td>1800</td>\n",
       "      <td>https://tqklhszfkvzk6518638.cdn.ntruss.com/pro...</td>\n",
       "    </tr>\n",
       "    <tr>\n",
       "      <th>3577</th>\n",
       "      <td>L6</td>\n",
       "      <td>음료</td>\n",
       "      <td>M1</td>\n",
       "      <td>음료</td>\n",
       "      <td>I-8002270296574</td>\n",
       "      <td>산펠레그리노500ml</td>\n",
       "      <td>NaN</td>\n",
       "      <td>2500</td>\n",
       "      <td>https://tqklhszfkvzk6518638.cdn.ntruss.com/pro...</td>\n",
       "    </tr>\n",
       "    <tr>\n",
       "      <th>3807</th>\n",
       "      <td>L6</td>\n",
       "      <td>음료</td>\n",
       "      <td>M1</td>\n",
       "      <td>음료</td>\n",
       "      <td>I-8801094902605</td>\n",
       "      <td>비타민워터에너지</td>\n",
       "      <td>NaN</td>\n",
       "      <td>2000</td>\n",
       "      <td>https://tqklhszfkvzk6518638.cdn.ntruss.com/pro...</td>\n",
       "    </tr>\n",
       "    <tr>\n",
       "      <th>4060</th>\n",
       "      <td>L6</td>\n",
       "      <td>음료</td>\n",
       "      <td>M1</td>\n",
       "      <td>음료</td>\n",
       "      <td>I-8809495073979</td>\n",
       "      <td>마시는식사비건그레인</td>\n",
       "      <td>NaN</td>\n",
       "      <td>2200</td>\n",
       "      <td>https://tqklhszfkvzk6518638.cdn.ntruss.com/pro...</td>\n",
       "    </tr>\n",
       "    <tr>\n",
       "      <th>4061</th>\n",
       "      <td>L6</td>\n",
       "      <td>음료</td>\n",
       "      <td>M1</td>\n",
       "      <td>음료</td>\n",
       "      <td>I-8809495073986</td>\n",
       "      <td>마시는식사비건카카오</td>\n",
       "      <td>NaN</td>\n",
       "      <td>2200</td>\n",
       "      <td>https://tqklhszfkvzk6518638.cdn.ntruss.com/pro...</td>\n",
       "    </tr>\n",
       "    <tr>\n",
       "      <th>4303</th>\n",
       "      <td>L6</td>\n",
       "      <td>음료</td>\n",
       "      <td>M3</td>\n",
       "      <td>유제품</td>\n",
       "      <td>I-8809350883903</td>\n",
       "      <td>어른우유검은콩미숫가루</td>\n",
       "      <td>NaN</td>\n",
       "      <td>1800</td>\n",
       "      <td>https://tqklhszfkvzk6518638.cdn.ntruss.com/pro...</td>\n",
       "    </tr>\n",
       "  </tbody>\n",
       "</table>\n",
       "</div>"
      ],
      "text/plain": [
       "     ItemIdLarge ItemNameLarge ItemIdMiddle ItemNameMiddle           ItemId  \\\n",
       "589           L3           과자류           M1         스낵/비스켓  I-8801062879090   \n",
       "1396          L3           과자류           M3       껌/초콜릿/캔디  I-2201148612355   \n",
       "1457          L3           과자류           M3       껌/초콜릿/캔디  I-6934290104152   \n",
       "1668          L3           과자류           M3       껌/초콜릿/캔디  I-8804973306204   \n",
       "1676          L3           과자류           M3       껌/초콜릿/캔디  I-8809008810022   \n",
       "1847          L4         아이스크림           M1          아이스크림  I-8801062422838   \n",
       "3076          L5            식품           M3            식재료  I-2201148613918   \n",
       "3077          L5            식품           M3            식재료  I-2201148614045   \n",
       "3078          L5            식품           M3            식재료  I-2201148614274   \n",
       "3569          L6            음료           M1             음료  I-4005906404835   \n",
       "3570          L6            음료           M1             음료  I-4710088102010   \n",
       "3575          L6            음료           M1             음료  I-6901035622493   \n",
       "3577          L6            음료           M1             음료  I-8002270296574   \n",
       "3807          L6            음료           M1             음료  I-8801094902605   \n",
       "4060          L6            음료           M1             음료  I-8809495073979   \n",
       "4061          L6            음료           M1             음료  I-8809495073986   \n",
       "4303          L6            음료           M3            유제품  I-8809350883903   \n",
       "\n",
       "             ItemName Item_CatORMaker  Price  \\\n",
       "589        ABC초코쿠키쿠앤크             NaN   1000   \n",
       "1396            푸쉬팝캔디             NaN   1200   \n",
       "1457          주사위팝33g             NaN   1200   \n",
       "1668        몰티져스밀크37g             NaN   1500   \n",
       "1676          리얼딸기초코볼             NaN   2500   \n",
       "1847        본젤라또치즈베리콘             NaN   2000   \n",
       "3076            바나나2입             NaN   1300   \n",
       "3077             세척사과             NaN   1500   \n",
       "3078            바나나1입             NaN    700   \n",
       "3569        파워오투오렌지레몬             NaN   2100   \n",
       "3570  85도씨대만소금커피300ml             NaN   2000   \n",
       "3575     칭따오무알콜캔330ml             NaN   1800   \n",
       "3577      산펠레그리노500ml             NaN   2500   \n",
       "3807         비타민워터에너지             NaN   2000   \n",
       "4060       마시는식사비건그레인             NaN   2200   \n",
       "4061       마시는식사비건카카오             NaN   2200   \n",
       "4303      어른우유검은콩미숫가루             NaN   1800   \n",
       "\n",
       "                                               ImageUrl  \n",
       "589   https://tqklhszfkvzk6518638.cdn.ntruss.com/pro...  \n",
       "1396  http://cdn2.bgfretail.com/bgfbrand/files/produ...  \n",
       "1457  https://tqklhszfkvzk6518638.cdn.ntruss.com/pro...  \n",
       "1668  https://tqklhszfkvzk6518638.cdn.ntruss.com/pro...  \n",
       "1676  https://tqklhszfkvzk6518638.cdn.ntruss.com/pro...  \n",
       "1847  http://cdn2.bgfretail.com/bgfbrand/files/produ...  \n",
       "3076  https://tqklhszfkvzk6518638.cdn.ntruss.com/pro...  \n",
       "3077  https://tqklhszfkvzk6518638.cdn.ntruss.com/pro...  \n",
       "3078  https://tqklhszfkvzk6518638.cdn.ntruss.com/pro...  \n",
       "3569  http://cdn2.bgfretail.com/bgfbrand/files/produ...  \n",
       "3570  https://tqklhszfkvzk6518638.cdn.ntruss.com/pro...  \n",
       "3575  https://tqklhszfkvzk6518638.cdn.ntruss.com/pro...  \n",
       "3577  https://tqklhszfkvzk6518638.cdn.ntruss.com/pro...  \n",
       "3807  https://tqklhszfkvzk6518638.cdn.ntruss.com/pro...  \n",
       "4060  https://tqklhszfkvzk6518638.cdn.ntruss.com/pro...  \n",
       "4061  https://tqklhszfkvzk6518638.cdn.ntruss.com/pro...  \n",
       "4303  https://tqklhszfkvzk6518638.cdn.ntruss.com/pro...  "
      ]
     },
     "execution_count": 33,
     "metadata": {},
     "output_type": "execute_result"
    }
   ],
   "source": [
    "items[items['Item_CatORMaker'].isnull()==True]"
   ]
  },
  {
   "cell_type": "code",
   "execution_count": 34,
   "id": "befdd4c3",
   "metadata": {
    "scrolled": true
   },
   "outputs": [],
   "source": [
    "#cu상품목록을 찾아본 봐 이름이랑 똑같기 때문에 제거\n",
    "items= items.drop(['Item_CatORMaker'],axis=1)"
   ]
  },
  {
   "cell_type": "code",
   "execution_count": 35,
   "id": "08495103",
   "metadata": {
    "scrolled": true
   },
   "outputs": [
    {
     "data": {
      "text/plain": [
       "ItemIdLarge       0\n",
       "ItemNameLarge     0\n",
       "ItemIdMiddle      0\n",
       "ItemNameMiddle    0\n",
       "ItemId            0\n",
       "ItemName          0\n",
       "Price             0\n",
       "ImageUrl          0\n",
       "dtype: int64"
      ]
     },
     "execution_count": 35,
     "metadata": {},
     "output_type": "execute_result"
    }
   ],
   "source": [
    "items.isnull().sum()"
   ]
  },
  {
   "cell_type": "code",
   "execution_count": 36,
   "id": "d69c0285",
   "metadata": {},
   "outputs": [
    {
     "data": {
      "text/plain": [
       "3700.0"
      ]
     },
     "execution_count": 36,
     "metadata": {},
     "output_type": "execute_result"
    }
   ],
   "source": [
    "items[\"Price\"].quantile(0.75)"
   ]
  },
  {
   "cell_type": "code",
   "execution_count": 37,
   "id": "59b93424",
   "metadata": {
    "scrolled": true
   },
   "outputs": [
    {
     "data": {
      "text/html": [
       "<div>\n",
       "<style scoped>\n",
       "    .dataframe tbody tr th:only-of-type {\n",
       "        vertical-align: middle;\n",
       "    }\n",
       "\n",
       "    .dataframe tbody tr th {\n",
       "        vertical-align: top;\n",
       "    }\n",
       "\n",
       "    .dataframe thead th {\n",
       "        text-align: right;\n",
       "    }\n",
       "</style>\n",
       "<table border=\"1\" class=\"dataframe\">\n",
       "  <thead>\n",
       "    <tr style=\"text-align: right;\">\n",
       "      <th></th>\n",
       "      <th>Price</th>\n",
       "    </tr>\n",
       "  </thead>\n",
       "  <tbody>\n",
       "    <tr>\n",
       "      <th>count</th>\n",
       "      <td>4308.000000</td>\n",
       "    </tr>\n",
       "    <tr>\n",
       "      <th>mean</th>\n",
       "      <td>3073.454039</td>\n",
       "    </tr>\n",
       "    <tr>\n",
       "      <th>std</th>\n",
       "      <td>2761.728663</td>\n",
       "    </tr>\n",
       "    <tr>\n",
       "      <th>min</th>\n",
       "      <td>200.000000</td>\n",
       "    </tr>\n",
       "    <tr>\n",
       "      <th>25%</th>\n",
       "      <td>1500.000000</td>\n",
       "    </tr>\n",
       "    <tr>\n",
       "      <th>50%</th>\n",
       "      <td>2200.000000</td>\n",
       "    </tr>\n",
       "    <tr>\n",
       "      <th>75%</th>\n",
       "      <td>3700.000000</td>\n",
       "    </tr>\n",
       "    <tr>\n",
       "      <th>max</th>\n",
       "      <td>52000.000000</td>\n",
       "    </tr>\n",
       "  </tbody>\n",
       "</table>\n",
       "</div>"
      ],
      "text/plain": [
       "              Price\n",
       "count   4308.000000\n",
       "mean    3073.454039\n",
       "std     2761.728663\n",
       "min      200.000000\n",
       "25%     1500.000000\n",
       "50%     2200.000000\n",
       "75%     3700.000000\n",
       "max    52000.000000"
      ]
     },
     "execution_count": 37,
     "metadata": {},
     "output_type": "execute_result"
    }
   ],
   "source": [
    "items.describe()"
   ]
  },
  {
   "cell_type": "code",
   "execution_count": 38,
   "id": "a73c0996",
   "metadata": {
    "scrolled": true
   },
   "outputs": [
    {
     "data": {
      "text/plain": [
       "1066"
      ]
     },
     "execution_count": 38,
     "metadata": {},
     "output_type": "execute_result"
    }
   ],
   "source": [
    "len(items[items['Price']>3700])"
   ]
  },
  {
   "cell_type": "code",
   "execution_count": 39,
   "id": "9d968434",
   "metadata": {},
   "outputs": [
    {
     "data": {
      "text/plain": [
       "<AxesSubplot:>"
      ]
     },
     "execution_count": 39,
     "metadata": {},
     "output_type": "execute_result"
    },
    {
     "data": {
      "image/png": "[encoded data removed]",
      "text/plain": [
       "<Figure size 640x480 with 1 Axes>"
      ]
     },
     "metadata": {},
     "output_type": "display_data"
    }
   ],
   "source": [
    "items['ItemIdLarge'].hist()"
   ]
  },
  {
   "cell_type": "code",
   "execution_count": 40,
   "id": "d3a067e0",
   "metadata": {},
   "outputs": [
    {
     "data": {
      "text/plain": [
       "<AxesSubplot:>"
      ]
     },
     "execution_count": 40,
     "metadata": {},
     "output_type": "execute_result"
    },
    {
     "data": {
      "image/png": "[encoded data removed]",
      "text/plain": [
       "<Figure size 640x480 with 1 Axes>"
      ]
     },
     "metadata": {},
     "output_type": "display_data"
    }
   ],
   "source": [
    "items['ItemNameLarge'].hist()"
   ]
  },
  {
   "cell_type": "code",
   "execution_count": 41,
   "id": "c27ec581",
   "metadata": {},
   "outputs": [
    {
     "data": {
      "text/plain": [
       "<AxesSubplot:>"
      ]
     },
     "execution_count": 41,
     "metadata": {},
     "output_type": "execute_result"
    },
    {
     "data": {
      "image/png": "[encoded data removed]",
      "text/plain": [
       "<Figure size 640x480 with 1 Axes>"
      ]
     },
     "metadata": {},
     "output_type": "display_data"
    }
   ],
   "source": [
    "items['ItemIdMiddle'].hist()"
   ]
  },
  {
   "cell_type": "code",
   "execution_count": 42,
   "id": "0c054f48",
   "metadata": {},
   "outputs": [
    {
     "data": {
      "text/plain": [
       "([0, 1, 2, 3, 4, 5, 6, 7, 8, 9, 10, 11, 12, 13, 14, 15],\n",
       " [Text(0, 0, ''),\n",
       "  Text(0, 0, ''),\n",
       "  Text(0, 0, ''),\n",
       "  Text(0, 0, ''),\n",
       "  Text(0, 0, ''),\n",
       "  Text(0, 0, ''),\n",
       "  Text(0, 0, ''),\n",
       "  Text(0, 0, ''),\n",
       "  Text(0, 0, ''),\n",
       "  Text(0, 0, ''),\n",
       "  Text(0, 0, ''),\n",
       "  Text(0, 0, ''),\n",
       "  Text(0, 0, ''),\n",
       "  Text(0, 0, ''),\n",
       "  Text(0, 0, ''),\n",
       "  Text(0, 0, '')])"
      ]
     },
     "execution_count": 42,
     "metadata": {},
     "output_type": "execute_result"
    },
    {
     "data": {
      "image/png": "[encoded data removed]",
      "text/plain": [
       "<Figure size 640x480 with 1 Axes>"
      ]
     },
     "metadata": {},
     "output_type": "display_data"
    }
   ],
   "source": [
    "items['ItemNameMiddle'].hist()\n",
    "plt.xticks(rotation=70)"
   ]
  },
  {
   "cell_type": "code",
   "execution_count": 43,
   "id": "362a7e73",
   "metadata": {
    "scrolled": true
   },
   "outputs": [
    {
     "data": {
      "text/plain": [
       "<AxesSubplot:>"
      ]
     },
     "execution_count": 43,
     "metadata": {},
     "output_type": "execute_result"
    },
    {
     "data": {
      "image/png": "[encoded data removed]",
      "text/plain": [
       "<Figure size 640x480 with 1 Axes>"
      ]
     },
     "metadata": {},
     "output_type": "display_data"
    }
   ],
   "source": [
    "items['Price'].hist()"
   ]
  },
  {
   "cell_type": "code",
   "execution_count": 44,
   "id": "969525d0",
   "metadata": {},
   "outputs": [],
   "source": [
    "items= items.drop('ImageUrl',axis=1)"
   ]
  },
  {
   "cell_type": "code",
   "execution_count": 45,
   "id": "d690266c",
   "metadata": {},
   "outputs": [
    {
     "name": "stdout",
     "output_type": "stream",
     "text": [
      "<class 'pandas.core.frame.DataFrame'>\n",
      "RangeIndex: 4308 entries, 0 to 4307\n",
      "Data columns (total 7 columns):\n",
      " #   Column          Non-Null Count  Dtype \n",
      "---  ------          --------------  ----- \n",
      " 0   ItemIdLarge     4308 non-null   object\n",
      " 1   ItemNameLarge   4308 non-null   object\n",
      " 2   ItemIdMiddle    4308 non-null   object\n",
      " 3   ItemNameMiddle  4308 non-null   object\n",
      " 4   ItemId          4308 non-null   object\n",
      " 5   ItemName        4308 non-null   object\n",
      " 6   Price           4308 non-null   int64 \n",
      "dtypes: int64(1), object(6)\n",
      "memory usage: 235.7+ KB\n"
     ]
    }
   ],
   "source": [
    "items.info()"
   ]
  },
  {
   "cell_type": "markdown",
   "id": "7585daad",
   "metadata": {},
   "source": [
    "## 데이터 결합하기"
   ]
  },
  {
   "cell_type": "code",
   "execution_count": 46,
   "id": "3aed9451",
   "metadata": {},
   "outputs": [
    {
     "data": {
      "text/html": [
       "<div>\n",
       "<style scoped>\n",
       "    .dataframe tbody tr th:only-of-type {\n",
       "        vertical-align: middle;\n",
       "    }\n",
       "\n",
       "    .dataframe tbody tr th {\n",
       "        vertical-align: top;\n",
       "    }\n",
       "\n",
       "    .dataframe thead th {\n",
       "        text-align: right;\n",
       "    }\n",
       "</style>\n",
       "<table border=\"1\" class=\"dataframe\">\n",
       "  <thead>\n",
       "    <tr style=\"text-align: right;\">\n",
       "      <th></th>\n",
       "      <th>idUser</th>\n",
       "      <th>idPOS</th>\n",
       "      <th>SalesDT</th>\n",
       "      <th>SalesDate</th>\n",
       "      <th>SalesYear</th>\n",
       "      <th>SalesYearMonth</th>\n",
       "      <th>SalesMonth</th>\n",
       "      <th>SalesDow</th>\n",
       "      <th>SalesHour</th>\n",
       "      <th>ItemId</th>\n",
       "      <th>ItemName</th>\n",
       "      <th>Gender</th>\n",
       "      <th>AgeGroup</th>\n",
       "    </tr>\n",
       "  </thead>\n",
       "  <tbody>\n",
       "    <tr>\n",
       "      <th>0</th>\n",
       "      <td>U100001</td>\n",
       "      <td>U100001-POS2020-10001</td>\n",
       "      <td>2020-01-01T10:47:03</td>\n",
       "      <td>2020-01-01</td>\n",
       "      <td>2020</td>\n",
       "      <td>2020-01</td>\n",
       "      <td>1</td>\n",
       "      <td>수요일</td>\n",
       "      <td>10</td>\n",
       "      <td>I-8801007795751</td>\n",
       "      <td>CJ)고메모짜돈카츠450g</td>\n",
       "      <td>남성</td>\n",
       "      <td>40대</td>\n",
       "    </tr>\n",
       "    <tr>\n",
       "      <th>1</th>\n",
       "      <td>U100001</td>\n",
       "      <td>U100001-POS2020-10001</td>\n",
       "      <td>2020-01-01T10:47:03</td>\n",
       "      <td>2020-01-01</td>\n",
       "      <td>2020</td>\n",
       "      <td>2020-01</td>\n",
       "      <td>1</td>\n",
       "      <td>수요일</td>\n",
       "      <td>10</td>\n",
       "      <td>I-8801056170059</td>\n",
       "      <td>롯)칠성사이다복숭아P500</td>\n",
       "      <td>남성</td>\n",
       "      <td>40대</td>\n",
       "    </tr>\n",
       "    <tr>\n",
       "      <th>2</th>\n",
       "      <td>U100001</td>\n",
       "      <td>U100001-POS2020-10001</td>\n",
       "      <td>2020-01-01T10:47:03</td>\n",
       "      <td>2020-01-01</td>\n",
       "      <td>2020</td>\n",
       "      <td>2020-01</td>\n",
       "      <td>1</td>\n",
       "      <td>수요일</td>\n",
       "      <td>10</td>\n",
       "      <td>I-8809640112157</td>\n",
       "      <td>PSK)스윗사파이어포도400g</td>\n",
       "      <td>남성</td>\n",
       "      <td>40대</td>\n",
       "    </tr>\n",
       "    <tr>\n",
       "      <th>3</th>\n",
       "      <td>U100001</td>\n",
       "      <td>U100001-POS2020-10004</td>\n",
       "      <td>2020-01-05T19:08:12</td>\n",
       "      <td>2020-01-05</td>\n",
       "      <td>2020</td>\n",
       "      <td>2020-01</td>\n",
       "      <td>1</td>\n",
       "      <td>일요일</td>\n",
       "      <td>19</td>\n",
       "      <td>I-8801045611211</td>\n",
       "      <td>오뚜기)물엿700g</td>\n",
       "      <td>남성</td>\n",
       "      <td>40대</td>\n",
       "    </tr>\n",
       "    <tr>\n",
       "      <th>4</th>\n",
       "      <td>U100001</td>\n",
       "      <td>U100001-POS2020-10004</td>\n",
       "      <td>2020-01-05T19:08:12</td>\n",
       "      <td>2020-01-05</td>\n",
       "      <td>2020</td>\n",
       "      <td>2020-01</td>\n",
       "      <td>1</td>\n",
       "      <td>일요일</td>\n",
       "      <td>19</td>\n",
       "      <td>I-8809253648470</td>\n",
       "      <td>22del)헤이즐넛향1L</td>\n",
       "      <td>남성</td>\n",
       "      <td>40대</td>\n",
       "    </tr>\n",
       "  </tbody>\n",
       "</table>\n",
       "</div>"
      ],
      "text/plain": [
       "    idUser                  idPOS              SalesDT   SalesDate  SalesYear  \\\n",
       "0  U100001  U100001-POS2020-10001  2020-01-01T10:47:03  2020-01-01       2020   \n",
       "1  U100001  U100001-POS2020-10001  2020-01-01T10:47:03  2020-01-01       2020   \n",
       "2  U100001  U100001-POS2020-10001  2020-01-01T10:47:03  2020-01-01       2020   \n",
       "3  U100001  U100001-POS2020-10004  2020-01-05T19:08:12  2020-01-05       2020   \n",
       "4  U100001  U100001-POS2020-10004  2020-01-05T19:08:12  2020-01-05       2020   \n",
       "\n",
       "  SalesYearMonth  SalesMonth SalesDow  SalesHour           ItemId  \\\n",
       "0        2020-01           1      수요일         10  I-8801007795751   \n",
       "1        2020-01           1      수요일         10  I-8801056170059   \n",
       "2        2020-01           1      수요일         10  I-8809640112157   \n",
       "3        2020-01           1      일요일         19  I-8801045611211   \n",
       "4        2020-01           1      일요일         19  I-8809253648470   \n",
       "\n",
       "           ItemName Gender AgeGroup  \n",
       "0    CJ)고메모짜돈카츠450g     남성      40대  \n",
       "1    롯)칠성사이다복숭아P500     남성      40대  \n",
       "2  PSK)스윗사파이어포도400g     남성      40대  \n",
       "3        오뚜기)물엿700g     남성      40대  \n",
       "4     22del)헤이즐넛향1L     남성      40대  "
      ]
     },
     "execution_count": 46,
     "metadata": {},
     "output_type": "execute_result"
    }
   ],
   "source": [
    "df=sales.merge(users, on='idUser', how='left')\n",
    "df.head()"
   ]
  },
  {
   "cell_type": "code",
   "execution_count": 47,
   "id": "6a72135f",
   "metadata": {},
   "outputs": [
    {
     "data": {
      "text/html": [
       "<div>\n",
       "<style scoped>\n",
       "    .dataframe tbody tr th:only-of-type {\n",
       "        vertical-align: middle;\n",
       "    }\n",
       "\n",
       "    .dataframe tbody tr th {\n",
       "        vertical-align: top;\n",
       "    }\n",
       "\n",
       "    .dataframe thead th {\n",
       "        text-align: right;\n",
       "    }\n",
       "</style>\n",
       "<table border=\"1\" class=\"dataframe\">\n",
       "  <thead>\n",
       "    <tr style=\"text-align: right;\">\n",
       "      <th></th>\n",
       "      <th>idUser</th>\n",
       "      <th>idPOS</th>\n",
       "      <th>SalesDT</th>\n",
       "      <th>SalesDate</th>\n",
       "      <th>SalesYear</th>\n",
       "      <th>SalesYearMonth</th>\n",
       "      <th>SalesMonth</th>\n",
       "      <th>SalesDow</th>\n",
       "      <th>SalesHour</th>\n",
       "      <th>ItemId</th>\n",
       "      <th>ItemName_x</th>\n",
       "      <th>Gender</th>\n",
       "      <th>AgeGroup</th>\n",
       "      <th>ItemIdLarge</th>\n",
       "      <th>ItemNameLarge</th>\n",
       "      <th>ItemIdMiddle</th>\n",
       "      <th>ItemNameMiddle</th>\n",
       "      <th>ItemName_y</th>\n",
       "      <th>Price</th>\n",
       "    </tr>\n",
       "  </thead>\n",
       "  <tbody>\n",
       "    <tr>\n",
       "      <th>0</th>\n",
       "      <td>U100001</td>\n",
       "      <td>U100001-POS2020-10001</td>\n",
       "      <td>2020-01-01T10:47:03</td>\n",
       "      <td>2020-01-01</td>\n",
       "      <td>2020</td>\n",
       "      <td>2020-01</td>\n",
       "      <td>1</td>\n",
       "      <td>수요일</td>\n",
       "      <td>10</td>\n",
       "      <td>I-8801007795751</td>\n",
       "      <td>CJ)고메모짜돈카츠450g</td>\n",
       "      <td>남성</td>\n",
       "      <td>40대</td>\n",
       "      <td>L5</td>\n",
       "      <td>식품</td>\n",
       "      <td>M1</td>\n",
       "      <td>가공식사</td>\n",
       "      <td>CJ)고메모짜돈카츠450g</td>\n",
       "      <td>10000</td>\n",
       "    </tr>\n",
       "    <tr>\n",
       "      <th>1</th>\n",
       "      <td>U100001</td>\n",
       "      <td>U100001-POS2020-10001</td>\n",
       "      <td>2020-01-01T10:47:03</td>\n",
       "      <td>2020-01-01</td>\n",
       "      <td>2020</td>\n",
       "      <td>2020-01</td>\n",
       "      <td>1</td>\n",
       "      <td>수요일</td>\n",
       "      <td>10</td>\n",
       "      <td>I-8801056170059</td>\n",
       "      <td>롯)칠성사이다복숭아P500</td>\n",
       "      <td>남성</td>\n",
       "      <td>40대</td>\n",
       "      <td>L6</td>\n",
       "      <td>음료</td>\n",
       "      <td>M1</td>\n",
       "      <td>음료</td>\n",
       "      <td>롯)칠성사이다복숭아P500</td>\n",
       "      <td>2200</td>\n",
       "    </tr>\n",
       "    <tr>\n",
       "      <th>2</th>\n",
       "      <td>U100001</td>\n",
       "      <td>U100001-POS2020-10001</td>\n",
       "      <td>2020-01-01T10:47:03</td>\n",
       "      <td>2020-01-01</td>\n",
       "      <td>2020</td>\n",
       "      <td>2020-01</td>\n",
       "      <td>1</td>\n",
       "      <td>수요일</td>\n",
       "      <td>10</td>\n",
       "      <td>I-8809640112157</td>\n",
       "      <td>PSK)스윗사파이어포도400g</td>\n",
       "      <td>남성</td>\n",
       "      <td>40대</td>\n",
       "      <td>L5</td>\n",
       "      <td>식품</td>\n",
       "      <td>M3</td>\n",
       "      <td>식재료</td>\n",
       "      <td>PSK)스윗사파이어포도400g</td>\n",
       "      <td>6800</td>\n",
       "    </tr>\n",
       "    <tr>\n",
       "      <th>3</th>\n",
       "      <td>U100001</td>\n",
       "      <td>U100001-POS2020-10004</td>\n",
       "      <td>2020-01-05T19:08:12</td>\n",
       "      <td>2020-01-05</td>\n",
       "      <td>2020</td>\n",
       "      <td>2020-01</td>\n",
       "      <td>1</td>\n",
       "      <td>일요일</td>\n",
       "      <td>19</td>\n",
       "      <td>I-8801045611211</td>\n",
       "      <td>오뚜기)물엿700g</td>\n",
       "      <td>남성</td>\n",
       "      <td>40대</td>\n",
       "      <td>L5</td>\n",
       "      <td>식품</td>\n",
       "      <td>M3</td>\n",
       "      <td>식재료</td>\n",
       "      <td>오뚜기)물엿700g</td>\n",
       "      <td>3000</td>\n",
       "    </tr>\n",
       "    <tr>\n",
       "      <th>4</th>\n",
       "      <td>U100001</td>\n",
       "      <td>U100001-POS2020-10004</td>\n",
       "      <td>2020-01-05T19:08:12</td>\n",
       "      <td>2020-01-05</td>\n",
       "      <td>2020</td>\n",
       "      <td>2020-01</td>\n",
       "      <td>1</td>\n",
       "      <td>일요일</td>\n",
       "      <td>19</td>\n",
       "      <td>I-8809253648470</td>\n",
       "      <td>22del)헤이즐넛향1L</td>\n",
       "      <td>남성</td>\n",
       "      <td>40대</td>\n",
       "      <td>L6</td>\n",
       "      <td>음료</td>\n",
       "      <td>M2</td>\n",
       "      <td>아이스링크</td>\n",
       "      <td>22del)헤이즐넛향1L</td>\n",
       "      <td>3500</td>\n",
       "    </tr>\n",
       "  </tbody>\n",
       "</table>\n",
       "</div>"
      ],
      "text/plain": [
       "    idUser                  idPOS              SalesDT   SalesDate  SalesYear  \\\n",
       "0  U100001  U100001-POS2020-10001  2020-01-01T10:47:03  2020-01-01       2020   \n",
       "1  U100001  U100001-POS2020-10001  2020-01-01T10:47:03  2020-01-01       2020   \n",
       "2  U100001  U100001-POS2020-10001  2020-01-01T10:47:03  2020-01-01       2020   \n",
       "3  U100001  U100001-POS2020-10004  2020-01-05T19:08:12  2020-01-05       2020   \n",
       "4  U100001  U100001-POS2020-10004  2020-01-05T19:08:12  2020-01-05       2020   \n",
       "\n",
       "  SalesYearMonth  SalesMonth SalesDow  SalesHour           ItemId  \\\n",
       "0        2020-01           1      수요일         10  I-8801007795751   \n",
       "1        2020-01           1      수요일         10  I-8801056170059   \n",
       "2        2020-01           1      수요일         10  I-8809640112157   \n",
       "3        2020-01           1      일요일         19  I-8801045611211   \n",
       "4        2020-01           1      일요일         19  I-8809253648470   \n",
       "\n",
       "         ItemName_x Gender AgeGroup ItemIdLarge ItemNameLarge ItemIdMiddle  \\\n",
       "0    CJ)고메모짜돈카츠450g     남성      40대          L5            식품           M1   \n",
       "1    롯)칠성사이다복숭아P500     남성      40대          L6            음료           M1   \n",
       "2  PSK)스윗사파이어포도400g     남성      40대          L5            식품           M3   \n",
       "3        오뚜기)물엿700g     남성      40대          L5            식품           M3   \n",
       "4     22del)헤이즐넛향1L     남성      40대          L6            음료           M2   \n",
       "\n",
       "  ItemNameMiddle        ItemName_y  Price  \n",
       "0           가공식사    CJ)고메모짜돈카츠450g  10000  \n",
       "1             음료    롯)칠성사이다복숭아P500   2200  \n",
       "2            식재료  PSK)스윗사파이어포도400g   6800  \n",
       "3            식재료        오뚜기)물엿700g   3000  \n",
       "4          아이스링크     22del)헤이즐넛향1L   3500  "
      ]
     },
     "execution_count": 47,
     "metadata": {},
     "output_type": "execute_result"
    }
   ],
   "source": [
    "df=df.merge(items, on='ItemId', how='left')\n",
    "df.head()"
   ]
  },
  {
   "cell_type": "code",
   "execution_count": 48,
   "id": "b773c652",
   "metadata": {},
   "outputs": [
    {
     "name": "stdout",
     "output_type": "stream",
     "text": [
      "<class 'pandas.core.frame.DataFrame'>\n",
      "Int64Index: 510223 entries, 0 to 510222\n",
      "Data columns (total 18 columns):\n",
      " #   Column          Non-Null Count   Dtype \n",
      "---  ------          --------------   ----- \n",
      " 0   idUser          510223 non-null  object\n",
      " 1   idPOS           510223 non-null  object\n",
      " 2   SalesDT         510223 non-null  object\n",
      " 3   SalesDate       510223 non-null  object\n",
      " 4   SalesYear       510223 non-null  int64 \n",
      " 5   SalesYearMonth  510223 non-null  object\n",
      " 6   SalesMonth      510223 non-null  int64 \n",
      " 7   SalesDow        510223 non-null  object\n",
      " 8   SalesHour       510223 non-null  int64 \n",
      " 9   ItemId          510223 non-null  object\n",
      " 10  ItemName        510223 non-null  object\n",
      " 11  Gender          510223 non-null  object\n",
      " 12  AgeGroup        510223 non-null  object\n",
      " 13  ItemIdLarge     510223 non-null  object\n",
      " 14  ItemNameLarge   510223 non-null  object\n",
      " 15  ItemIdMiddle    510223 non-null  object\n",
      " 16  ItemNameMiddle  510223 non-null  object\n",
      " 17  Price           510223 non-null  int64 \n",
      "dtypes: int64(4), object(14)\n",
      "memory usage: 74.0+ MB\n"
     ]
    }
   ],
   "source": [
    "df = df.drop('ItemName_y',axis=1)\n",
    "df = df.rename(columns={'ItemName_x':'ItemName'})\n",
    "df.info()"
   ]
  },
  {
   "cell_type": "code",
   "execution_count": 49,
   "id": "a8e11003",
   "metadata": {
    "scrolled": true
   },
   "outputs": [],
   "source": [
    "weather.rename(columns={'dateObs':'SalesDate'}, inplace=True)"
   ]
  },
  {
   "cell_type": "code",
   "execution_count": 50,
   "id": "f29087f2",
   "metadata": {
    "scrolled": true
   },
   "outputs": [
    {
     "data": {
      "text/html": [
       "<div>\n",
       "<style scoped>\n",
       "    .dataframe tbody tr th:only-of-type {\n",
       "        vertical-align: middle;\n",
       "    }\n",
       "\n",
       "    .dataframe tbody tr th {\n",
       "        vertical-align: top;\n",
       "    }\n",
       "\n",
       "    .dataframe thead th {\n",
       "        text-align: right;\n",
       "    }\n",
       "</style>\n",
       "<table border=\"1\" class=\"dataframe\">\n",
       "  <thead>\n",
       "    <tr style=\"text-align: right;\">\n",
       "      <th></th>\n",
       "      <th>idUser</th>\n",
       "      <th>idPOS</th>\n",
       "      <th>SalesDT</th>\n",
       "      <th>SalesDate</th>\n",
       "      <th>SalesYear</th>\n",
       "      <th>SalesYearMonth</th>\n",
       "      <th>SalesMonth</th>\n",
       "      <th>SalesDow</th>\n",
       "      <th>SalesHour</th>\n",
       "      <th>ItemId</th>\n",
       "      <th>...</th>\n",
       "      <th>ItemNameLarge</th>\n",
       "      <th>ItemIdMiddle</th>\n",
       "      <th>ItemNameMiddle</th>\n",
       "      <th>Price</th>\n",
       "      <th>TempAvg</th>\n",
       "      <th>TempMin</th>\n",
       "      <th>TempMax</th>\n",
       "      <th>hourRainfall</th>\n",
       "      <th>RainfallAmount</th>\n",
       "      <th>HumidAvg</th>\n",
       "    </tr>\n",
       "  </thead>\n",
       "  <tbody>\n",
       "    <tr>\n",
       "      <th>0</th>\n",
       "      <td>U100001</td>\n",
       "      <td>U100001-POS2020-10001</td>\n",
       "      <td>2020-01-01T10:47:03</td>\n",
       "      <td>2020-01-01</td>\n",
       "      <td>2020</td>\n",
       "      <td>2020-01</td>\n",
       "      <td>1</td>\n",
       "      <td>수요일</td>\n",
       "      <td>10</td>\n",
       "      <td>I-8801007795751</td>\n",
       "      <td>...</td>\n",
       "      <td>식품</td>\n",
       "      <td>M1</td>\n",
       "      <td>가공식사</td>\n",
       "      <td>10000</td>\n",
       "      <td>-2.2</td>\n",
       "      <td>-6.5</td>\n",
       "      <td>0.3</td>\n",
       "      <td>9.83</td>\n",
       "      <td>0.1</td>\n",
       "      <td>64.4</td>\n",
       "    </tr>\n",
       "    <tr>\n",
       "      <th>1</th>\n",
       "      <td>U100001</td>\n",
       "      <td>U100001-POS2020-10001</td>\n",
       "      <td>2020-01-01T10:47:03</td>\n",
       "      <td>2020-01-01</td>\n",
       "      <td>2020</td>\n",
       "      <td>2020-01</td>\n",
       "      <td>1</td>\n",
       "      <td>수요일</td>\n",
       "      <td>10</td>\n",
       "      <td>I-8801056170059</td>\n",
       "      <td>...</td>\n",
       "      <td>음료</td>\n",
       "      <td>M1</td>\n",
       "      <td>음료</td>\n",
       "      <td>2200</td>\n",
       "      <td>-2.2</td>\n",
       "      <td>-6.5</td>\n",
       "      <td>0.3</td>\n",
       "      <td>9.83</td>\n",
       "      <td>0.1</td>\n",
       "      <td>64.4</td>\n",
       "    </tr>\n",
       "    <tr>\n",
       "      <th>2</th>\n",
       "      <td>U100001</td>\n",
       "      <td>U100001-POS2020-10001</td>\n",
       "      <td>2020-01-01T10:47:03</td>\n",
       "      <td>2020-01-01</td>\n",
       "      <td>2020</td>\n",
       "      <td>2020-01</td>\n",
       "      <td>1</td>\n",
       "      <td>수요일</td>\n",
       "      <td>10</td>\n",
       "      <td>I-8809640112157</td>\n",
       "      <td>...</td>\n",
       "      <td>식품</td>\n",
       "      <td>M3</td>\n",
       "      <td>식재료</td>\n",
       "      <td>6800</td>\n",
       "      <td>-2.2</td>\n",
       "      <td>-6.5</td>\n",
       "      <td>0.3</td>\n",
       "      <td>9.83</td>\n",
       "      <td>0.1</td>\n",
       "      <td>64.4</td>\n",
       "    </tr>\n",
       "    <tr>\n",
       "      <th>3</th>\n",
       "      <td>U100001</td>\n",
       "      <td>U100001-POS2020-10004</td>\n",
       "      <td>2020-01-05T19:08:12</td>\n",
       "      <td>2020-01-05</td>\n",
       "      <td>2020</td>\n",
       "      <td>2020-01</td>\n",
       "      <td>1</td>\n",
       "      <td>일요일</td>\n",
       "      <td>19</td>\n",
       "      <td>I-8801045611211</td>\n",
       "      <td>...</td>\n",
       "      <td>식품</td>\n",
       "      <td>M3</td>\n",
       "      <td>식재료</td>\n",
       "      <td>3000</td>\n",
       "      <td>1.3</td>\n",
       "      <td>-3.2</td>\n",
       "      <td>6.6</td>\n",
       "      <td>0.00</td>\n",
       "      <td>0.0</td>\n",
       "      <td>45.6</td>\n",
       "    </tr>\n",
       "    <tr>\n",
       "      <th>4</th>\n",
       "      <td>U100001</td>\n",
       "      <td>U100001-POS2020-10004</td>\n",
       "      <td>2020-01-05T19:08:12</td>\n",
       "      <td>2020-01-05</td>\n",
       "      <td>2020</td>\n",
       "      <td>2020-01</td>\n",
       "      <td>1</td>\n",
       "      <td>일요일</td>\n",
       "      <td>19</td>\n",
       "      <td>I-8809253648470</td>\n",
       "      <td>...</td>\n",
       "      <td>음료</td>\n",
       "      <td>M2</td>\n",
       "      <td>아이스링크</td>\n",
       "      <td>3500</td>\n",
       "      <td>1.3</td>\n",
       "      <td>-3.2</td>\n",
       "      <td>6.6</td>\n",
       "      <td>0.00</td>\n",
       "      <td>0.0</td>\n",
       "      <td>45.6</td>\n",
       "    </tr>\n",
       "  </tbody>\n",
       "</table>\n",
       "<p>5 rows × 24 columns</p>\n",
       "</div>"
      ],
      "text/plain": [
       "    idUser                  idPOS              SalesDT   SalesDate  SalesYear  \\\n",
       "0  U100001  U100001-POS2020-10001  2020-01-01T10:47:03  2020-01-01       2020   \n",
       "1  U100001  U100001-POS2020-10001  2020-01-01T10:47:03  2020-01-01       2020   \n",
       "2  U100001  U100001-POS2020-10001  2020-01-01T10:47:03  2020-01-01       2020   \n",
       "3  U100001  U100001-POS2020-10004  2020-01-05T19:08:12  2020-01-05       2020   \n",
       "4  U100001  U100001-POS2020-10004  2020-01-05T19:08:12  2020-01-05       2020   \n",
       "\n",
       "  SalesYearMonth  SalesMonth SalesDow  SalesHour           ItemId  ...  \\\n",
       "0        2020-01           1      수요일         10  I-8801007795751  ...   \n",
       "1        2020-01           1      수요일         10  I-8801056170059  ...   \n",
       "2        2020-01           1      수요일         10  I-8809640112157  ...   \n",
       "3        2020-01           1      일요일         19  I-8801045611211  ...   \n",
       "4        2020-01           1      일요일         19  I-8809253648470  ...   \n",
       "\n",
       "  ItemNameLarge ItemIdMiddle ItemNameMiddle  Price TempAvg TempMin TempMax  \\\n",
       "0            식품           M1           가공식사  10000    -2.2    -6.5     0.3   \n",
       "1            음료           M1             음료   2200    -2.2    -6.5     0.3   \n",
       "2            식품           M3            식재료   6800    -2.2    -6.5     0.3   \n",
       "3            식품           M3            식재료   3000     1.3    -3.2     6.6   \n",
       "4            음료           M2          아이스링크   3500     1.3    -3.2     6.6   \n",
       "\n",
       "   hourRainfall  RainfallAmount  HumidAvg  \n",
       "0          9.83             0.1      64.4  \n",
       "1          9.83             0.1      64.4  \n",
       "2          9.83             0.1      64.4  \n",
       "3          0.00             0.0      45.6  \n",
       "4          0.00             0.0      45.6  \n",
       "\n",
       "[5 rows x 24 columns]"
      ]
     },
     "execution_count": 50,
     "metadata": {},
     "output_type": "execute_result"
    }
   ],
   "source": [
    "df=df.merge(weather, on='SalesDate', how='left')\n",
    "df.head()"
   ]
  },
  {
   "cell_type": "code",
   "execution_count": 51,
   "id": "1ba9ecfe",
   "metadata": {
    "scrolled": false
   },
   "outputs": [
    {
     "data": {
      "text/plain": [
       "idUser            0\n",
       "idPOS             0\n",
       "SalesDT           0\n",
       "SalesDate         0\n",
       "SalesYear         0\n",
       "SalesYearMonth    0\n",
       "SalesMonth        0\n",
       "SalesDow          0\n",
       "SalesHour         0\n",
       "ItemId            0\n",
       "ItemName          0\n",
       "Gender            0\n",
       "AgeGroup          0\n",
       "ItemIdLarge       0\n",
       "ItemNameLarge     0\n",
       "ItemIdMiddle      0\n",
       "ItemNameMiddle    0\n",
       "Price             0\n",
       "TempAvg           0\n",
       "TempMin           0\n",
       "TempMax           0\n",
       "hourRainfall      0\n",
       "RainfallAmount    0\n",
       "HumidAvg          0\n",
       "dtype: int64"
      ]
     },
     "execution_count": 51,
     "metadata": {},
     "output_type": "execute_result"
    }
   ],
   "source": [
    "df.isnull().sum()"
   ]
  },
  {
   "cell_type": "markdown",
   "id": "2c6e72e3",
   "metadata": {},
   "source": [
    "- df는 4개 데이터 결합(UserYear, Item_CatORMaker, ImageUrl, AreaID, Area 제외)"
   ]
  },
  {
   "cell_type": "code",
   "execution_count": 52,
   "id": "d71405f2",
   "metadata": {},
   "outputs": [],
   "source": [
    "df = df.drop(['ItemIdLarge','ItemIdMiddle'],axis=1)"
   ]
  },
  {
   "cell_type": "code",
   "execution_count": 53,
   "id": "e299849b",
   "metadata": {},
   "outputs": [
    {
     "data": {
      "text/html": [
       "<div>\n",
       "<style scoped>\n",
       "    .dataframe tbody tr th:only-of-type {\n",
       "        vertical-align: middle;\n",
       "    }\n",
       "\n",
       "    .dataframe tbody tr th {\n",
       "        vertical-align: top;\n",
       "    }\n",
       "\n",
       "    .dataframe thead th {\n",
       "        text-align: right;\n",
       "    }\n",
       "</style>\n",
       "<table border=\"1\" class=\"dataframe\">\n",
       "  <thead>\n",
       "    <tr style=\"text-align: right;\">\n",
       "      <th></th>\n",
       "      <th>idUser</th>\n",
       "      <th>idPOS</th>\n",
       "      <th>SalesDT</th>\n",
       "      <th>SalesDate</th>\n",
       "      <th>SalesYear</th>\n",
       "      <th>SalesYearMonth</th>\n",
       "      <th>SalesMonth</th>\n",
       "      <th>SalesDow</th>\n",
       "      <th>SalesHour</th>\n",
       "      <th>ItemId</th>\n",
       "      <th>...</th>\n",
       "      <th>AgeGroup</th>\n",
       "      <th>ItemNameLarge</th>\n",
       "      <th>ItemNameMiddle</th>\n",
       "      <th>Price</th>\n",
       "      <th>TempAvg</th>\n",
       "      <th>TempMin</th>\n",
       "      <th>TempMax</th>\n",
       "      <th>hourRainfall</th>\n",
       "      <th>RainfallAmount</th>\n",
       "      <th>HumidAvg</th>\n",
       "    </tr>\n",
       "  </thead>\n",
       "  <tbody>\n",
       "    <tr>\n",
       "      <th>0</th>\n",
       "      <td>U100001</td>\n",
       "      <td>U100001-POS2020-10001</td>\n",
       "      <td>2020-01-01T10:47:03</td>\n",
       "      <td>2020-01-01</td>\n",
       "      <td>2020</td>\n",
       "      <td>2020-01</td>\n",
       "      <td>1</td>\n",
       "      <td>수요일</td>\n",
       "      <td>10</td>\n",
       "      <td>I-8801007795751</td>\n",
       "      <td>...</td>\n",
       "      <td>40대</td>\n",
       "      <td>식품</td>\n",
       "      <td>가공식사</td>\n",
       "      <td>10000</td>\n",
       "      <td>-2.2</td>\n",
       "      <td>-6.5</td>\n",
       "      <td>0.3</td>\n",
       "      <td>9.83</td>\n",
       "      <td>0.1</td>\n",
       "      <td>64.4</td>\n",
       "    </tr>\n",
       "    <tr>\n",
       "      <th>1</th>\n",
       "      <td>U100001</td>\n",
       "      <td>U100001-POS2020-10001</td>\n",
       "      <td>2020-01-01T10:47:03</td>\n",
       "      <td>2020-01-01</td>\n",
       "      <td>2020</td>\n",
       "      <td>2020-01</td>\n",
       "      <td>1</td>\n",
       "      <td>수요일</td>\n",
       "      <td>10</td>\n",
       "      <td>I-8801056170059</td>\n",
       "      <td>...</td>\n",
       "      <td>40대</td>\n",
       "      <td>음료</td>\n",
       "      <td>음료</td>\n",
       "      <td>2200</td>\n",
       "      <td>-2.2</td>\n",
       "      <td>-6.5</td>\n",
       "      <td>0.3</td>\n",
       "      <td>9.83</td>\n",
       "      <td>0.1</td>\n",
       "      <td>64.4</td>\n",
       "    </tr>\n",
       "    <tr>\n",
       "      <th>2</th>\n",
       "      <td>U100001</td>\n",
       "      <td>U100001-POS2020-10001</td>\n",
       "      <td>2020-01-01T10:47:03</td>\n",
       "      <td>2020-01-01</td>\n",
       "      <td>2020</td>\n",
       "      <td>2020-01</td>\n",
       "      <td>1</td>\n",
       "      <td>수요일</td>\n",
       "      <td>10</td>\n",
       "      <td>I-8809640112157</td>\n",
       "      <td>...</td>\n",
       "      <td>40대</td>\n",
       "      <td>식품</td>\n",
       "      <td>식재료</td>\n",
       "      <td>6800</td>\n",
       "      <td>-2.2</td>\n",
       "      <td>-6.5</td>\n",
       "      <td>0.3</td>\n",
       "      <td>9.83</td>\n",
       "      <td>0.1</td>\n",
       "      <td>64.4</td>\n",
       "    </tr>\n",
       "    <tr>\n",
       "      <th>3</th>\n",
       "      <td>U100001</td>\n",
       "      <td>U100001-POS2020-10004</td>\n",
       "      <td>2020-01-05T19:08:12</td>\n",
       "      <td>2020-01-05</td>\n",
       "      <td>2020</td>\n",
       "      <td>2020-01</td>\n",
       "      <td>1</td>\n",
       "      <td>일요일</td>\n",
       "      <td>19</td>\n",
       "      <td>I-8801045611211</td>\n",
       "      <td>...</td>\n",
       "      <td>40대</td>\n",
       "      <td>식품</td>\n",
       "      <td>식재료</td>\n",
       "      <td>3000</td>\n",
       "      <td>1.3</td>\n",
       "      <td>-3.2</td>\n",
       "      <td>6.6</td>\n",
       "      <td>0.00</td>\n",
       "      <td>0.0</td>\n",
       "      <td>45.6</td>\n",
       "    </tr>\n",
       "    <tr>\n",
       "      <th>4</th>\n",
       "      <td>U100001</td>\n",
       "      <td>U100001-POS2020-10004</td>\n",
       "      <td>2020-01-05T19:08:12</td>\n",
       "      <td>2020-01-05</td>\n",
       "      <td>2020</td>\n",
       "      <td>2020-01</td>\n",
       "      <td>1</td>\n",
       "      <td>일요일</td>\n",
       "      <td>19</td>\n",
       "      <td>I-8809253648470</td>\n",
       "      <td>...</td>\n",
       "      <td>40대</td>\n",
       "      <td>음료</td>\n",
       "      <td>아이스링크</td>\n",
       "      <td>3500</td>\n",
       "      <td>1.3</td>\n",
       "      <td>-3.2</td>\n",
       "      <td>6.6</td>\n",
       "      <td>0.00</td>\n",
       "      <td>0.0</td>\n",
       "      <td>45.6</td>\n",
       "    </tr>\n",
       "  </tbody>\n",
       "</table>\n",
       "<p>5 rows × 22 columns</p>\n",
       "</div>"
      ],
      "text/plain": [
       "    idUser                  idPOS              SalesDT   SalesDate  SalesYear  \\\n",
       "0  U100001  U100001-POS2020-10001  2020-01-01T10:47:03  2020-01-01       2020   \n",
       "1  U100001  U100001-POS2020-10001  2020-01-01T10:47:03  2020-01-01       2020   \n",
       "2  U100001  U100001-POS2020-10001  2020-01-01T10:47:03  2020-01-01       2020   \n",
       "3  U100001  U100001-POS2020-10004  2020-01-05T19:08:12  2020-01-05       2020   \n",
       "4  U100001  U100001-POS2020-10004  2020-01-05T19:08:12  2020-01-05       2020   \n",
       "\n",
       "  SalesYearMonth  SalesMonth SalesDow  SalesHour           ItemId  ...  \\\n",
       "0        2020-01           1      수요일         10  I-8801007795751  ...   \n",
       "1        2020-01           1      수요일         10  I-8801056170059  ...   \n",
       "2        2020-01           1      수요일         10  I-8809640112157  ...   \n",
       "3        2020-01           1      일요일         19  I-8801045611211  ...   \n",
       "4        2020-01           1      일요일         19  I-8809253648470  ...   \n",
       "\n",
       "  AgeGroup ItemNameLarge ItemNameMiddle  Price TempAvg  TempMin  TempMax  \\\n",
       "0      40대            식품           가공식사  10000    -2.2     -6.5      0.3   \n",
       "1      40대            음료             음료   2200    -2.2     -6.5      0.3   \n",
       "2      40대            식품            식재료   6800    -2.2     -6.5      0.3   \n",
       "3      40대            식품            식재료   3000     1.3     -3.2      6.6   \n",
       "4      40대            음료          아이스링크   3500     1.3     -3.2      6.6   \n",
       "\n",
       "   hourRainfall  RainfallAmount  HumidAvg  \n",
       "0          9.83             0.1      64.4  \n",
       "1          9.83             0.1      64.4  \n",
       "2          9.83             0.1      64.4  \n",
       "3          0.00             0.0      45.6  \n",
       "4          0.00             0.0      45.6  \n",
       "\n",
       "[5 rows x 22 columns]"
      ]
     },
     "execution_count": 53,
     "metadata": {},
     "output_type": "execute_result"
    }
   ],
   "source": [
    "df.head()"
   ]
  },
  {
   "cell_type": "code",
   "execution_count": 54,
   "id": "bdfbddaf",
   "metadata": {},
   "outputs": [
    {
     "name": "stdout",
     "output_type": "stream",
     "text": [
      "<class 'pandas.core.frame.DataFrame'>\n",
      "Int64Index: 510223 entries, 0 to 510222\n",
      "Data columns (total 22 columns):\n",
      " #   Column          Non-Null Count   Dtype  \n",
      "---  ------          --------------   -----  \n",
      " 0   idUser          510223 non-null  object \n",
      " 1   idPOS           510223 non-null  object \n",
      " 2   SalesDT         510223 non-null  object \n",
      " 3   SalesDate       510223 non-null  object \n",
      " 4   SalesYear       510223 non-null  int64  \n",
      " 5   SalesYearMonth  510223 non-null  object \n",
      " 6   SalesMonth      510223 non-null  int64  \n",
      " 7   SalesDow        510223 non-null  object \n",
      " 8   SalesHour       510223 non-null  int64  \n",
      " 9   ItemId          510223 non-null  object \n",
      " 10  ItemName        510223 non-null  object \n",
      " 11  Gender          510223 non-null  object \n",
      " 12  AgeGroup        510223 non-null  object \n",
      " 13  ItemNameLarge   510223 non-null  object \n",
      " 14  ItemNameMiddle  510223 non-null  object \n",
      " 15  Price           510223 non-null  int64  \n",
      " 16  TempAvg         510223 non-null  float64\n",
      " 17  TempMin         510223 non-null  float64\n",
      " 18  TempMax         510223 non-null  float64\n",
      " 19  hourRainfall    510223 non-null  float64\n",
      " 20  RainfallAmount  510223 non-null  float64\n",
      " 21  HumidAvg        510223 non-null  float64\n",
      "dtypes: float64(6), int64(4), object(12)\n",
      "memory usage: 89.5+ MB\n"
     ]
    }
   ],
   "source": [
    "df.info()"
   ]
  },
  {
   "cell_type": "markdown",
   "id": "f81ea729",
   "metadata": {},
   "source": [
    "# 파생변수생성"
   ]
  },
  {
   "cell_type": "code",
   "execution_count": 55,
   "id": "ae9a0a0b",
   "metadata": {},
   "outputs": [
    {
     "data": {
      "text/plain": [
       "0         겨울\n",
       "1         겨울\n",
       "2         겨울\n",
       "3         겨울\n",
       "4         겨울\n",
       "          ..\n",
       "510218    가을\n",
       "510219    가을\n",
       "510220    가을\n",
       "510221    가을\n",
       "510222    가을\n",
       "Name: 계절, Length: 510223, dtype: object"
      ]
     },
     "execution_count": 55,
     "metadata": {},
     "output_type": "execute_result"
    }
   ],
   "source": [
    "#계절별 매출 변화\n",
    "def Season(x):\n",
    "        if  3<=x and x<=5 : return \"봄\"  \n",
    "        elif x >= 6 and x <=8: return '여름'  \n",
    "        elif x >= 9 and x <=11: return \"가을\" \n",
    "        else: return \"겨울\"\n",
    "df[\"계절\"]=df[\"SalesDate\"].str[5:7].astype(\"int\").apply(Season)\n",
    "df[\"계절\"]"
   ]
  },
  {
   "cell_type": "code",
   "execution_count": 56,
   "id": "44aaac2f",
   "metadata": {},
   "outputs": [
    {
     "data": {
      "text/plain": [
       "0         3\n",
       "1         3\n",
       "2         3\n",
       "3         2\n",
       "4         2\n",
       "         ..\n",
       "510218    4\n",
       "510219    4\n",
       "510220    4\n",
       "510221    3\n",
       "510222    3\n",
       "Name: 습도상태, Length: 510223, dtype: object"
      ]
     },
     "execution_count": 56,
     "metadata": {},
     "output_type": "execute_result"
    }
   ],
   "source": [
    "## 습도/강수량 나누기\n",
    "# 습도분리\n",
    "def Humidity(x):\n",
    "        if  25>x: return '0'\n",
    "        elif x >= 25 and x <30: return '1'  \n",
    "        elif x >= 30 and x <60: return '2'\n",
    "        elif x >= 60 and x <70: return '3' \n",
    "        else: return '4'\n",
    "df['습도상태']=df['HumidAvg'].apply(Humidity)\n",
    "df[\"습도상태\"]"
   ]
  },
  {
   "cell_type": "code",
   "execution_count": 57,
   "id": "da95f9c4",
   "metadata": {},
   "outputs": [
    {
     "data": {
      "text/plain": [
       "0         0\n",
       "1         0\n",
       "2         0\n",
       "3         0\n",
       "4         0\n",
       "         ..\n",
       "510218    0\n",
       "510219    0\n",
       "510220    0\n",
       "510221    0\n",
       "510222    0\n",
       "Name: 강수상태, Length: 510223, dtype: object"
      ]
     },
     "execution_count": 57,
     "metadata": {},
     "output_type": "execute_result"
    }
   ],
   "source": [
    "# 강수량 분리\n",
    "def RainfallAmount(x):\n",
    "        if  1>x: return '0'\n",
    "        elif x >= 1 and x <3: return '1'  \n",
    "        elif x >= 3 and x <15: return '2'\n",
    "        elif x >= 15 and x <30: return '3' \n",
    "        else: return '4'\n",
    "df['강수상태']=df['RainfallAmount'].apply(RainfallAmount)\n",
    "df['강수상태']"
   ]
  },
  {
   "cell_type": "code",
   "execution_count": 58,
   "id": "69942bc8",
   "metadata": {
    "scrolled": true
   },
   "outputs": [],
   "source": [
    "# 매일\n",
    "# 일주일에 4-6회 정도\n",
    "# 일주일에 2-3회 정도\n",
    "# 일주일에 1회 정도\n",
    "\n",
    "# 한달에 2-3회 정도\n",
    "# 한달에 1회 정도\n",
    "# 한달에 1회 미만\n"
   ]
  },
  {
   "cell_type": "code",
   "execution_count": 59,
   "id": "a79869da",
   "metadata": {
    "scrolled": true
   },
   "outputs": [
    {
     "data": {
      "text/html": [
       "<div>\n",
       "<style scoped>\n",
       "    .dataframe tbody tr th:only-of-type {\n",
       "        vertical-align: middle;\n",
       "    }\n",
       "\n",
       "    .dataframe tbody tr th {\n",
       "        vertical-align: top;\n",
       "    }\n",
       "\n",
       "    .dataframe thead th {\n",
       "        text-align: right;\n",
       "    }\n",
       "</style>\n",
       "<table border=\"1\" class=\"dataframe\">\n",
       "  <thead>\n",
       "    <tr style=\"text-align: right;\">\n",
       "      <th></th>\n",
       "      <th>idUser</th>\n",
       "      <th>idPOS</th>\n",
       "      <th>SalesDT</th>\n",
       "      <th>SalesDate</th>\n",
       "      <th>SalesYear</th>\n",
       "      <th>SalesYearMonth</th>\n",
       "      <th>SalesMonth</th>\n",
       "      <th>SalesDow</th>\n",
       "      <th>SalesHour</th>\n",
       "      <th>ItemId</th>\n",
       "      <th>...</th>\n",
       "      <th>Price</th>\n",
       "      <th>TempAvg</th>\n",
       "      <th>TempMin</th>\n",
       "      <th>TempMax</th>\n",
       "      <th>hourRainfall</th>\n",
       "      <th>RainfallAmount</th>\n",
       "      <th>HumidAvg</th>\n",
       "      <th>계절</th>\n",
       "      <th>습도상태</th>\n",
       "      <th>강수상태</th>\n",
       "    </tr>\n",
       "  </thead>\n",
       "  <tbody>\n",
       "    <tr>\n",
       "      <th>0</th>\n",
       "      <td>U100001</td>\n",
       "      <td>U100001-POS2020-10001</td>\n",
       "      <td>2020-01-01T10:47:03</td>\n",
       "      <td>2020-01-01</td>\n",
       "      <td>2020</td>\n",
       "      <td>2020-01</td>\n",
       "      <td>1</td>\n",
       "      <td>수요일</td>\n",
       "      <td>10</td>\n",
       "      <td>I-8801007795751</td>\n",
       "      <td>...</td>\n",
       "      <td>10000</td>\n",
       "      <td>-2.2</td>\n",
       "      <td>-6.5</td>\n",
       "      <td>0.3</td>\n",
       "      <td>9.83</td>\n",
       "      <td>0.1</td>\n",
       "      <td>64.4</td>\n",
       "      <td>겨울</td>\n",
       "      <td>3</td>\n",
       "      <td>0</td>\n",
       "    </tr>\n",
       "    <tr>\n",
       "      <th>3</th>\n",
       "      <td>U100001</td>\n",
       "      <td>U100001-POS2020-10004</td>\n",
       "      <td>2020-01-05T19:08:12</td>\n",
       "      <td>2020-01-05</td>\n",
       "      <td>2020</td>\n",
       "      <td>2020-01</td>\n",
       "      <td>1</td>\n",
       "      <td>일요일</td>\n",
       "      <td>19</td>\n",
       "      <td>I-8801045611211</td>\n",
       "      <td>...</td>\n",
       "      <td>3000</td>\n",
       "      <td>1.3</td>\n",
       "      <td>-3.2</td>\n",
       "      <td>6.6</td>\n",
       "      <td>0.00</td>\n",
       "      <td>0.0</td>\n",
       "      <td>45.6</td>\n",
       "      <td>겨울</td>\n",
       "      <td>2</td>\n",
       "      <td>0</td>\n",
       "    </tr>\n",
       "    <tr>\n",
       "      <th>5</th>\n",
       "      <td>U100001</td>\n",
       "      <td>U100001-POS2020-10006</td>\n",
       "      <td>2020-01-09T00:42:18</td>\n",
       "      <td>2020-01-09</td>\n",
       "      <td>2020</td>\n",
       "      <td>2020-01</td>\n",
       "      <td>1</td>\n",
       "      <td>목요일</td>\n",
       "      <td>0</td>\n",
       "      <td>I-8801045520728</td>\n",
       "      <td>...</td>\n",
       "      <td>750</td>\n",
       "      <td>-1.2</td>\n",
       "      <td>-3.1</td>\n",
       "      <td>2.0</td>\n",
       "      <td>0.00</td>\n",
       "      <td>0.0</td>\n",
       "      <td>65.3</td>\n",
       "      <td>겨울</td>\n",
       "      <td>3</td>\n",
       "      <td>0</td>\n",
       "    </tr>\n",
       "    <tr>\n",
       "      <th>6</th>\n",
       "      <td>U100001</td>\n",
       "      <td>U100001-POS2020-10008</td>\n",
       "      <td>2020-01-12T06:16:24</td>\n",
       "      <td>2020-01-12</td>\n",
       "      <td>2020</td>\n",
       "      <td>2020-01</td>\n",
       "      <td>1</td>\n",
       "      <td>일요일</td>\n",
       "      <td>6</td>\n",
       "      <td>I-8801069176567</td>\n",
       "      <td>...</td>\n",
       "      <td>1000</td>\n",
       "      <td>-1.0</td>\n",
       "      <td>-3.5</td>\n",
       "      <td>2.8</td>\n",
       "      <td>0.00</td>\n",
       "      <td>0.0</td>\n",
       "      <td>61.5</td>\n",
       "      <td>겨울</td>\n",
       "      <td>3</td>\n",
       "      <td>0</td>\n",
       "    </tr>\n",
       "    <tr>\n",
       "      <th>7</th>\n",
       "      <td>U100831</td>\n",
       "      <td>U100831-POS2021-10308</td>\n",
       "      <td>2021-09-15T20:34:30</td>\n",
       "      <td>2021-09-15</td>\n",
       "      <td>2021</td>\n",
       "      <td>2021-09</td>\n",
       "      <td>9</td>\n",
       "      <td>수요일</td>\n",
       "      <td>20</td>\n",
       "      <td>I-8801043004275</td>\n",
       "      <td>...</td>\n",
       "      <td>1000</td>\n",
       "      <td>23.6</td>\n",
       "      <td>19.5</td>\n",
       "      <td>28.9</td>\n",
       "      <td>0.00</td>\n",
       "      <td>0.0</td>\n",
       "      <td>57.5</td>\n",
       "      <td>가을</td>\n",
       "      <td>2</td>\n",
       "      <td>0</td>\n",
       "    </tr>\n",
       "  </tbody>\n",
       "</table>\n",
       "<p>5 rows × 25 columns</p>\n",
       "</div>"
      ],
      "text/plain": [
       "    idUser                  idPOS              SalesDT   SalesDate  SalesYear  \\\n",
       "0  U100001  U100001-POS2020-10001  2020-01-01T10:47:03  2020-01-01       2020   \n",
       "3  U100001  U100001-POS2020-10004  2020-01-05T19:08:12  2020-01-05       2020   \n",
       "5  U100001  U100001-POS2020-10006  2020-01-09T00:42:18  2020-01-09       2020   \n",
       "6  U100001  U100001-POS2020-10008  2020-01-12T06:16:24  2020-01-12       2020   \n",
       "7  U100831  U100831-POS2021-10308  2021-09-15T20:34:30  2021-09-15       2021   \n",
       "\n",
       "  SalesYearMonth  SalesMonth SalesDow  SalesHour           ItemId  ...  Price  \\\n",
       "0        2020-01           1      수요일         10  I-8801007795751  ...  10000   \n",
       "3        2020-01           1      일요일         19  I-8801045611211  ...   3000   \n",
       "5        2020-01           1      목요일          0  I-8801045520728  ...    750   \n",
       "6        2020-01           1      일요일          6  I-8801069176567  ...   1000   \n",
       "7        2021-09           9      수요일         20  I-8801043004275  ...   1000   \n",
       "\n",
       "  TempAvg TempMin TempMax hourRainfall  RainfallAmount  HumidAvg  계절  습도상태  \\\n",
       "0    -2.2    -6.5     0.3         9.83             0.1      64.4  겨울     3   \n",
       "3     1.3    -3.2     6.6         0.00             0.0      45.6  겨울     2   \n",
       "5    -1.2    -3.1     2.0         0.00             0.0      65.3  겨울     3   \n",
       "6    -1.0    -3.5     2.8         0.00             0.0      61.5  겨울     3   \n",
       "7    23.6    19.5    28.9         0.00             0.0      57.5  가을     2   \n",
       "\n",
       "   강수상태  \n",
       "0     0  \n",
       "3     0  \n",
       "5     0  \n",
       "6     0  \n",
       "7     0  \n",
       "\n",
       "[5 rows x 25 columns]"
      ]
     },
     "execution_count": 59,
     "metadata": {},
     "output_type": "execute_result"
    }
   ],
   "source": [
    "df1 = df.drop_duplicates(subset= [\"idUser\", \"SalesDate\"])\n",
    "df1.head()"
   ]
  },
  {
   "cell_type": "code",
   "execution_count": 61,
   "id": "0a1b6a64",
   "metadata": {},
   "outputs": [],
   "source": [
    "dfx=df1[df1['SalesDate'].str[0:4]=='2021']"
   ]
  },
  {
   "cell_type": "code",
   "execution_count": 62,
   "id": "7eccf9b4",
   "metadata": {
    "scrolled": true
   },
   "outputs": [
    {
     "data": {
      "text/html": [
       "<div>\n",
       "<style scoped>\n",
       "    .dataframe tbody tr th:only-of-type {\n",
       "        vertical-align: middle;\n",
       "    }\n",
       "\n",
       "    .dataframe tbody tr th {\n",
       "        vertical-align: top;\n",
       "    }\n",
       "\n",
       "    .dataframe thead th {\n",
       "        text-align: right;\n",
       "    }\n",
       "</style>\n",
       "<table border=\"1\" class=\"dataframe\">\n",
       "  <thead>\n",
       "    <tr style=\"text-align: right;\">\n",
       "      <th></th>\n",
       "      <th>idUser</th>\n",
       "      <th>방문수</th>\n",
       "    </tr>\n",
       "  </thead>\n",
       "  <tbody>\n",
       "    <tr>\n",
       "      <th>0</th>\n",
       "      <td>U100277</td>\n",
       "      <td>155</td>\n",
       "    </tr>\n",
       "    <tr>\n",
       "      <th>1</th>\n",
       "      <td>U100278</td>\n",
       "      <td>108</td>\n",
       "    </tr>\n",
       "    <tr>\n",
       "      <th>2</th>\n",
       "      <td>U100279</td>\n",
       "      <td>241</td>\n",
       "    </tr>\n",
       "    <tr>\n",
       "      <th>3</th>\n",
       "      <td>U100280</td>\n",
       "      <td>36</td>\n",
       "    </tr>\n",
       "    <tr>\n",
       "      <th>4</th>\n",
       "      <td>U100281</td>\n",
       "      <td>221</td>\n",
       "    </tr>\n",
       "    <tr>\n",
       "      <th>...</th>\n",
       "      <td>...</td>\n",
       "      <td>...</td>\n",
       "    </tr>\n",
       "    <tr>\n",
       "      <th>817</th>\n",
       "      <td>U101094</td>\n",
       "      <td>208</td>\n",
       "    </tr>\n",
       "    <tr>\n",
       "      <th>818</th>\n",
       "      <td>U101095</td>\n",
       "      <td>130</td>\n",
       "    </tr>\n",
       "    <tr>\n",
       "      <th>819</th>\n",
       "      <td>U101096</td>\n",
       "      <td>133</td>\n",
       "    </tr>\n",
       "    <tr>\n",
       "      <th>820</th>\n",
       "      <td>U101097</td>\n",
       "      <td>142</td>\n",
       "    </tr>\n",
       "    <tr>\n",
       "      <th>821</th>\n",
       "      <td>U101098</td>\n",
       "      <td>98</td>\n",
       "    </tr>\n",
       "  </tbody>\n",
       "</table>\n",
       "<p>822 rows × 2 columns</p>\n",
       "</div>"
      ],
      "text/plain": [
       "      idUser  방문수\n",
       "0    U100277  155\n",
       "1    U100278  108\n",
       "2    U100279  241\n",
       "3    U100280   36\n",
       "4    U100281  221\n",
       "..       ...  ...\n",
       "817  U101094  208\n",
       "818  U101095  130\n",
       "819  U101096  133\n",
       "820  U101097  142\n",
       "821  U101098   98\n",
       "\n",
       "[822 rows x 2 columns]"
      ]
     },
     "execution_count": 62,
     "metadata": {},
     "output_type": "execute_result"
    }
   ],
   "source": [
    "data_gen = dfx.groupby([\"idUser\"]).size().reset_index()\n",
    "data_gen = pd.DataFrame(data_gen)\n",
    "data_gen = data_gen.rename(columns={0:'방문수'})\n",
    "data_gen"
   ]
  },
  {
   "cell_type": "code",
   "execution_count": 63,
   "id": "88839577",
   "metadata": {},
   "outputs": [
    {
     "data": {
      "text/plain": [
       "count    822.000000\n",
       "mean     117.442822\n",
       "std       69.787818\n",
       "min        2.000000\n",
       "25%       53.000000\n",
       "50%      116.500000\n",
       "75%      173.000000\n",
       "max      264.000000\n",
       "Name: 방문수, dtype: float64"
      ]
     },
     "execution_count": 63,
     "metadata": {},
     "output_type": "execute_result"
    }
   ],
   "source": [
    "data_gen['방문수'].describe()"
   ]
  },
  {
   "cell_type": "code",
   "execution_count": 64,
   "id": "d1fad47c",
   "metadata": {},
   "outputs": [],
   "source": [
    "#방문 등급 생성\n",
    "def grade(x):\n",
    "        if  x<53: return 4\n",
    "        elif 53<=x and x<116 : return 3\n",
    "        elif 116<=x and x<173 : return 2\n",
    "        else: return 1\n",
    "data_gen[\"방문등급\"]=data_gen[\"방문수\"].astype(\"int\").apply(grade)"
   ]
  },
  {
   "cell_type": "code",
   "execution_count": 67,
   "id": "f888ee9a",
   "metadata": {},
   "outputs": [],
   "source": [
    "df_merge=df.merge(data_gen, on='idUser', how='outer')"
   ]
  },
  {
   "cell_type": "code",
   "execution_count": 69,
   "id": "b7f2f8c2",
   "metadata": {
    "scrolled": false
   },
   "outputs": [
    {
     "name": "stdout",
     "output_type": "stream",
     "text": [
      "<class 'pandas.core.frame.DataFrame'>\n",
      "Int64Index: 510223 entries, 0 to 510222\n",
      "Data columns (total 27 columns):\n",
      " #   Column          Non-Null Count   Dtype  \n",
      "---  ------          --------------   -----  \n",
      " 0   idUser          510223 non-null  object \n",
      " 1   idPOS           510223 non-null  object \n",
      " 2   SalesDT         510223 non-null  object \n",
      " 3   SalesDate       510223 non-null  object \n",
      " 4   SalesYear       510223 non-null  int64  \n",
      " 5   SalesYearMonth  510223 non-null  object \n",
      " 6   SalesMonth      510223 non-null  int64  \n",
      " 7   SalesDow        510223 non-null  object \n",
      " 8   SalesHour       510223 non-null  int64  \n",
      " 9   ItemId          510223 non-null  object \n",
      " 10  ItemName        510223 non-null  object \n",
      " 11  Gender          510223 non-null  object \n",
      " 12  AgeGroup        510223 non-null  object \n",
      " 13  ItemNameLarge   510223 non-null  object \n",
      " 14  ItemNameMiddle  510223 non-null  object \n",
      " 15  Price           510223 non-null  int64  \n",
      " 16  TempAvg         510223 non-null  float64\n",
      " 17  TempMin         510223 non-null  float64\n",
      " 18  TempMax         510223 non-null  float64\n",
      " 19  hourRainfall    510223 non-null  float64\n",
      " 20  RainfallAmount  510223 non-null  float64\n",
      " 21  HumidAvg        510223 non-null  float64\n",
      " 22  계절              510223 non-null  object \n",
      " 23  습도상태            510223 non-null  object \n",
      " 24  강수상태            510223 non-null  object \n",
      " 25  방문수             510216 non-null  float64\n",
      " 26  방문등급            510216 non-null  float64\n",
      "dtypes: float64(8), int64(4), object(15)\n",
      "memory usage: 109.0+ MB\n"
     ]
    }
   ],
   "source": [
    "df_merge.info()"
   ]
  },
  {
   "cell_type": "code",
   "execution_count": 71,
   "id": "5ea11d4a",
   "metadata": {},
   "outputs": [],
   "source": [
    "df=df_merge"
   ]
  },
  {
   "cell_type": "code",
   "execution_count": 73,
   "id": "ee1433cb",
   "metadata": {},
   "outputs": [],
   "source": [
    "df.to_csv('//home/piai/바탕화면/df.csv',encoding='cp949')"
   ]
  },
  {
   "cell_type": "code",
   "execution_count": null,
   "id": "9ee0a032",
   "metadata": {},
   "outputs": [],
   "source": []
  }
 ],
 "metadata": {
  "kernelspec": {
   "display_name": "Python 3 (ipykernel)",
   "language": "python",
   "name": "python3"
  },
  "language_info": {
   "codemirror_mode": {
    "name": "ipython",
    "version": 3
   },
   "file_extension": ".py",
   "mimetype": "text/x-python",
   "name": "python",
   "nbconvert_exporter": "python",
   "pygments_lexer": "ipython3",
   "version": "3.9.13"
  }
 },
 "nbformat": 4,
 "nbformat_minor": 5
}
